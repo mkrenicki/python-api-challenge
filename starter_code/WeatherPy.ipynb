{
 "cells": [
  {
   "cell_type": "markdown",
   "metadata": {},
   "source": [
    "# WeatherPy\n",
    "----\n",
    "\n",
    "#### Note\n",
    "* Instructions have been included for each segment. You do not have to follow them exactly, but they are included to help you think through the steps."
   ]
  },
  {
   "cell_type": "code",
   "execution_count": 149,
   "metadata": {},
   "outputs": [],
   "source": [
    "# 3 observable trends based on the data analysis below\n",
    "    # 1) As shown in the latitude vs. temperature plot, higher latitudes, especially those > 40 degrees are colder than those closer to the equator.\n",
    "    # 2) There does not appear to be any clear relationship between latitude and cloudiness.\n",
    "    # 3) As shown in the latitude vs. wind speed plot, outliers (very high winds) appear more likely to occur at extreme latitudes (far north or far south). However, additional data/sampling is recommended before concluding this is true definitively."
   ]
  },
  {
   "cell_type": "code",
   "execution_count": 150,
   "metadata": {
    "scrolled": true
   },
   "outputs": [],
   "source": [
    "# Code below in this cell provided as starter code\n",
    "# Dependencies and Setup\n",
    "import matplotlib.pyplot as plt\n",
    "import pandas as pd\n",
    "import numpy as np\n",
    "import requests\n",
    "import time\n",
    "from scipy.stats import linregress\n",
    "import json\n",
    "import csv\n",
    "import os\n",
    "\n",
    "# Import API key\n",
    "from api_keys import weather_api_key\n",
    "\n",
    "# Incorporated citipy to determine city based on latitude and longitude\n",
    "from citipy import citipy\n",
    "\n",
    "# Output File (CSV)\n",
    "output_data_file = \"output_data/cities.csv\"\n",
    "\n",
    "# Range of latitudes and longitudes\n",
    "lat_range = (-90, 90)\n",
    "lng_range = (-180, 180)"
   ]
  },
  {
   "cell_type": "markdown",
   "metadata": {},
   "source": [
    "## Generate Cities List"
   ]
  },
  {
   "cell_type": "code",
   "execution_count": 151,
   "metadata": {},
   "outputs": [
    {
     "data": {
      "text/plain": [
       "622"
      ]
     },
     "execution_count": 151,
     "metadata": {},
     "output_type": "execute_result"
    }
   ],
   "source": [
    "# Code below in this cell provided as starter code\n",
    "# List for holding lat_lngs and cities\n",
    "lat_lngs = []\n",
    "cities = []\n",
    "\n",
    "# Create a set of random lat and lng combinations\n",
    "lats = np.random.uniform(lat_range[0], lat_range[1], size=1500)\n",
    "lngs = np.random.uniform(lng_range[0], lng_range[1], size=1500)\n",
    "lat_lngs = zip(lats, lngs)\n",
    "\n",
    "# Identify nearest city for each lat, lng combination\n",
    "for lat_lng in lat_lngs:\n",
    "    city = citipy.nearest_city(lat_lng[0], lat_lng[1]).city_name\n",
    "    \n",
    "    # If the city is unique, then add it to a our cities list\n",
    "    if city not in cities:\n",
    "        cities.append(city)\n",
    "\n",
    "# Print the city count to confirm sufficient count\n",
    "len(cities)"
   ]
  },
  {
   "cell_type": "markdown",
   "metadata": {},
   "source": [
    "### Perform API Calls\n",
    "* Perform a weather check on each city using a series of successive API calls.\n",
    "* Include a print log of each city as it'sbeing processed (with the city number and city name).\n"
   ]
  },
  {
   "cell_type": "code",
   "execution_count": 152,
   "metadata": {
    "scrolled": true
   },
   "outputs": [
    {
     "name": "stdout",
     "output_type": "stream",
     "text": [
      "---------------\n",
      "Beginning Data Retrieval\n",
      "---------------\n",
      "Processing Record 0 | bonthe\n",
      "Processing Record 1 | mao\n",
      "City Not Found\n",
      "Processing Record 2 | heishan\n",
      "Processing Record 3 | asau\n",
      "Processing Record 4 | alofi\n",
      "Processing Record 5 | lebu\n",
      "Processing Record 6 | norman wells\n",
      "Processing Record 7 | mount pleasant\n",
      "Processing Record 8 | monte escobedo\n",
      "City Not Found\n",
      "Processing Record 9 | ribeira grande\n",
      "Processing Record 10 | saskylakh\n",
      "City Not Found\n",
      "Processing Record 11 | tasiilaq\n",
      "Processing Record 12 | gat\n",
      "Processing Record 13 | shaoyang\n",
      "Processing Record 14 | mayumba\n",
      "Processing Record 15 | shambu\n",
      "Processing Record 16 | havre-saint-pierre\n",
      "Processing Record 17 | ushuaia\n",
      "Processing Record 18 | castro\n",
      "Processing Record 19 | yellowknife\n",
      "Processing Record 20 | kapaa\n",
      "Processing Record 21 | griffith\n",
      "Processing Record 22 | cherskiy\n",
      "Processing Record 23 | port blair\n",
      "City Not Found\n",
      "Processing Record 24 | tibana\n",
      "Processing Record 25 | mataura\n",
      "Processing Record 26 | sakaiminato\n",
      "Processing Record 27 | khatanga\n",
      "Processing Record 28 | codrington\n",
      "Processing Record 29 | junin\n",
      "Processing Record 30 | rikitea\n",
      "Processing Record 31 | camacha\n",
      "Processing Record 32 | jamestown\n",
      "Processing Record 33 | mehamn\n",
      "City Not Found\n",
      "Processing Record 34 | busselton\n",
      "Processing Record 35 | dingle\n",
      "Processing Record 36 | upernavik\n",
      "Processing Record 37 | djambala\n",
      "Processing Record 38 | albany\n",
      "Processing Record 39 | thompson\n",
      "City Not Found\n",
      "Processing Record 40 | sarangani\n",
      "Processing Record 41 | lompoc\n",
      "Processing Record 42 | bredasdorp\n",
      "Processing Record 43 | valleyview\n",
      "Processing Record 44 | provideniya\n",
      "Processing Record 45 | carnarvon\n",
      "Processing Record 46 | port hardy\n",
      "Processing Record 47 | port lincoln\n",
      "Processing Record 48 | zhigansk\n",
      "Processing Record 49 | hambantota\n",
      "Processing Record 50 | tautira\n",
      "Processing Record 51 | bambous virieux\n",
      "Processing Record 52 | mar del plata\n",
      "Processing Record 53 | ceres\n",
      "Processing Record 54 | monclova\n",
      "Processing Record 55 | barrow\n",
      "Processing Record 56 | georgetown\n",
      "Processing Record 57 | tuktoyaktuk\n",
      "Processing Record 58 | mariinsk\n",
      "Processing Record 59 | port hedland\n",
      "Processing Record 60 | cabo san lucas\n",
      "Processing Record 61 | mahebourg\n",
      "Processing Record 62 | hermanus\n",
      "Processing Record 63 | hilo\n",
      "City Not Found\n",
      "Processing Record 64 | airai\n",
      "Processing Record 65 | alanya\n",
      "Processing Record 66 | ongandjera\n",
      "Processing Record 67 | hithadhoo\n",
      "Processing Record 68 | bontang\n",
      "Processing Record 69 | mittagong\n",
      "Processing Record 70 | san cosme y damian\n",
      "Processing Record 71 | saint-philippe\n",
      "Processing Record 72 | chapais\n",
      "Processing Record 73 | punta arenas\n",
      "Processing Record 74 | esperance\n",
      "Processing Record 75 | palmerston\n",
      "Processing Record 76 | abu kamal\n",
      "Processing Record 77 | kieta\n",
      "Processing Record 78 | talnakh\n",
      "Processing Record 79 | avarua\n",
      "City Not Found\n",
      "Processing Record 80 | butaritari\n",
      "Processing Record 81 | bluff\n",
      "Processing Record 82 | nantucket\n",
      "Processing Record 83 | ngunguru\n",
      "Processing Record 84 | manzhouli\n",
      "Processing Record 85 | cidreira\n",
      "Processing Record 86 | bilma\n",
      "Processing Record 87 | miandrivazo\n",
      "Processing Record 88 | tessalit\n",
      "Processing Record 89 | rawson\n",
      "Processing Record 90 | makrakomi\n",
      "City Not Found\n",
      "Processing Record 91 | millport\n",
      "Processing Record 92 | sao filipe\n",
      "Processing Record 93 | donskoye\n",
      "Processing Record 94 | mandalgovi\n",
      "Processing Record 95 | ban dung\n",
      "City Not Found\n",
      "Processing Record 96 | oranjemund\n",
      "Processing Record 97 | seminole\n",
      "Processing Record 98 | chernyshevskiy\n",
      "Processing Record 99 | nanortalik\n",
      "Processing Record 100 | torbay\n",
      "Processing Record 101 | puerto ayora\n",
      "Processing Record 102 | korla\n",
      "Processing Record 103 | gizo\n",
      "Processing Record 104 | hasaki\n",
      "Processing Record 105 | bambari\n",
      "Processing Record 106 | vao\n",
      "Processing Record 107 | velsk\n",
      "Processing Record 108 | burdur\n",
      "Processing Record 109 | atuona\n",
      "Processing Record 110 | kalmunai\n",
      "City Not Found\n",
      "Processing Record 111 | narsaq\n",
      "Processing Record 112 | lorengau\n",
      "Processing Record 113 | fare\n",
      "Processing Record 114 | luderitz\n",
      "Processing Record 115 | caramay\n",
      "Processing Record 116 | luganville\n",
      "Processing Record 117 | hanzhong\n",
      "Processing Record 118 | meulaboh\n",
      "Processing Record 119 | nouadhibou\n",
      "Processing Record 120 | dalvik\n",
      "Processing Record 121 | westport\n",
      "Processing Record 122 | sibolga\n",
      "Processing Record 123 | garowe\n",
      "Processing Record 124 | porto velho\n",
      "Processing Record 125 | ossora\n",
      "Processing Record 126 | voh\n",
      "Processing Record 127 | springbok\n",
      "Processing Record 128 | aklavik\n",
      "Processing Record 129 | haimen\n",
      "Processing Record 130 | dikson\n",
      "Processing Record 131 | bubaque\n",
      "Processing Record 132 | paamiut\n",
      "City Not Found\n",
      "Processing Record 133 | palmer\n",
      "Processing Record 134 | matagami\n",
      "Processing Record 135 | christchurch\n",
      "Processing Record 136 | noshiro\n",
      "Processing Record 137 | namibe\n",
      "Processing Record 138 | huarmey\n",
      "Processing Record 139 | jovellanos\n",
      "Processing Record 140 | geraldton\n",
      "Processing Record 141 | mama\n",
      "City Not Found\n",
      "Processing Record 142 | deep river\n",
      "Processing Record 143 | saint george\n",
      "Processing Record 144 | fairbanks\n",
      "Processing Record 145 | saldanha\n",
      "Processing Record 146 | englewood\n",
      "Processing Record 147 | evensk\n",
      "Processing Record 148 | mapimi\n",
      "Processing Record 149 | champasak\n",
      "City Not Found\n",
      "Processing Record 150 | souillac\n",
      "Processing Record 151 | bengkulu\n",
      "Processing Record 152 | faanui\n",
      "Processing Record 153 | manokwari\n",
      "Processing Record 154 | kokorevka\n",
      "Processing Record 155 | ubinskoye\n",
      "Processing Record 156 | tazovskiy\n",
      "Processing Record 157 | new norfolk\n",
      "Processing Record 158 | ancud\n",
      "Processing Record 159 | coruripe\n",
      "Processing Record 160 | henties bay\n",
      "Processing Record 161 | marathon\n",
      "Processing Record 162 | tocopilla\n",
      "Processing Record 163 | poronaysk\n",
      "Processing Record 164 | vostok\n",
      "Processing Record 165 | manukan\n",
      "Processing Record 166 | blackwater\n",
      "Processing Record 167 | qaanaaq\n",
      "Processing Record 168 | tuatapere\n",
      "Processing Record 169 | neftcala\n",
      "Processing Record 170 | isangel\n",
      "Processing Record 171 | campbell river\n",
      "Processing Record 172 | taree\n",
      "Processing Record 173 | calabozo\n",
      "Processing Record 174 | kodiak\n",
      "Processing Record 175 | katsuura\n",
      "Processing Record 176 | vaini\n",
      "Processing Record 177 | ilulissat\n",
      "Processing Record 178 | hobart\n",
      "City Not Found\n",
      "Processing Record 179 | elista\n",
      "Processing Record 180 | cape town\n",
      "Processing Record 181 | hualmay\n",
      "Processing Record 182 | nha trang\n",
      "Processing Record 183 | avera\n",
      "Processing Record 184 | mount gambier\n",
      "Processing Record 185 | siavonga\n",
      "Processing Record 186 | samarai\n",
      "Processing Record 187 | taoudenni\n",
      "Processing Record 188 | olafsvik\n",
      "Processing Record 189 | chai badan\n",
      "Processing Record 190 | kaitangata\n",
      "City Not Found\n",
      "Processing Record 191 | nyandoma\n",
      "Processing Record 192 | makat\n",
      "Processing Record 193 | victoria\n",
      "Processing Record 194 | oksovskiy\n",
      "Processing Record 195 | moose factory\n",
      "Processing Record 196 | samfya\n",
      "Processing Record 197 | lavrentiya\n",
      "Processing Record 198 | eureka\n",
      "Processing Record 199 | gubkinskiy\n",
      "City Not Found\n",
      "Processing Record 200 | san quintin\n",
      "Processing Record 201 | acara\n",
      "Processing Record 202 | port elizabeth\n",
      "Processing Record 203 | oussouye\n",
      "Processing Record 204 | iberia\n",
      "Processing Record 205 | abonnema\n",
      "Processing Record 206 | hajipur\n",
      "Processing Record 207 | sabzevar\n",
      "Processing Record 208 | lagoa\n",
      "Processing Record 209 | meadow lake\n",
      "Processing Record 210 | hauknes\n",
      "Processing Record 211 | ankazoabo\n",
      "Processing Record 212 | cayenne\n",
      "Processing Record 213 | derzhavinsk\n",
      "Processing Record 214 | gemena\n",
      "Processing Record 215 | shingu\n",
      "Processing Record 216 | parrita\n",
      "Processing Record 217 | kruisfontein\n",
      "City Not Found\n",
      "Processing Record 218 | laguna\n",
      "Processing Record 219 | dunedin\n",
      "City Not Found\n",
      "Processing Record 220 | petauke\n",
      "Processing Record 221 | la ronge\n",
      "Processing Record 222 | slobidka\n",
      "Processing Record 223 | tevaitoa\n",
      "Processing Record 224 | vikulovo\n",
      "Processing Record 225 | san nicolas\n",
      "City Not Found\n",
      "Processing Record 226 | angouleme\n",
      "Processing Record 227 | xuddur\n",
      "Processing Record 228 | qaqortoq\n",
      "Processing Record 229 | acari\n",
      "Processing Record 230 | high level\n",
      "Processing Record 231 | kasongo-lunda\n",
      "Processing Record 232 | fereydun kenar\n",
      "Processing Record 233 | leningradskiy\n",
      "Processing Record 234 | hamilton\n",
      "Processing Record 235 | mount isa\n",
      "Processing Record 236 | longyearbyen\n",
      "City Not Found\n",
      "Processing Record 237 | gazojak\n",
      "Processing Record 238 | buzuluk\n",
      "Processing Record 239 | jining\n"
     ]
    },
    {
     "name": "stdout",
     "output_type": "stream",
     "text": [
      "Processing Record 240 | port macquarie\n",
      "Processing Record 241 | januaria\n",
      "Processing Record 242 | puerto baquerizo moreno\n",
      "Processing Record 243 | gosainganj\n",
      "Processing Record 244 | newport\n",
      "Processing Record 245 | gladstone\n",
      "Processing Record 246 | tiksi\n",
      "Processing Record 247 | port alfred\n",
      "Processing Record 248 | soyo\n",
      "Processing Record 249 | zaysan\n",
      "Processing Record 250 | roma\n",
      "Processing Record 251 | hami\n",
      "Processing Record 252 | medicine hat\n",
      "Processing Record 253 | hovd\n",
      "Processing Record 254 | eyl\n",
      "Processing Record 255 | saint-pierre\n",
      "Processing Record 256 | bathsheba\n",
      "City Not Found\n",
      "Processing Record 257 | acapulco\n",
      "Processing Record 258 | guerrero negro\n",
      "Processing Record 259 | pevek\n",
      "Processing Record 260 | sao miguel do araguaia\n",
      "Processing Record 261 | porto novo\n",
      "Processing Record 262 | san patricio\n",
      "Processing Record 263 | ostrovnoy\n",
      "Processing Record 264 | lasa\n",
      "Processing Record 265 | yumen\n",
      "Processing Record 266 | shorapur\n",
      "Processing Record 267 | wewak\n",
      "Processing Record 268 | atbasar\n",
      "Processing Record 269 | coquimbo\n",
      "Processing Record 270 | puri\n",
      "Processing Record 271 | rio grande\n",
      "Processing Record 272 | lithakia\n",
      "City Not Found\n",
      "Processing Record 273 | mercedes\n",
      "Processing Record 274 | zdvinsk\n",
      "Processing Record 275 | ponta do sol\n",
      "Processing Record 276 | songea\n",
      "Processing Record 277 | angoche\n",
      "Processing Record 278 | rabo de peixe\n",
      "Processing Record 279 | price\n",
      "Processing Record 280 | russell\n",
      "Processing Record 281 | bethel\n",
      "Processing Record 282 | xining\n",
      "Processing Record 283 | nikolskoye\n",
      "Processing Record 284 | kununurra\n",
      "Processing Record 285 | sawakin\n",
      "Processing Record 286 | lashio\n",
      "Processing Record 287 | wattegama\n",
      "Processing Record 288 | flinders\n",
      "Processing Record 289 | maragogi\n",
      "City Not Found\n",
      "Processing Record 290 | anupgarh\n",
      "Processing Record 291 | vanimo\n",
      "Processing Record 292 | beeville\n",
      "Processing Record 293 | grindavik\n",
      "Processing Record 294 | jinchang\n",
      "Processing Record 295 | ambilobe\n",
      "City Not Found\n",
      "Processing Record 296 | rio gallegos\n",
      "Processing Record 297 | raahe\n",
      "Processing Record 298 | kavieng\n",
      "Processing Record 299 | north mankato\n",
      "Processing Record 300 | charters towers\n",
      "Processing Record 301 | tomatlan\n",
      "Processing Record 302 | hofn\n",
      "Processing Record 303 | alugan\n",
      "Processing Record 304 | barra do bugres\n",
      "Processing Record 305 | clyde river\n",
      "Processing Record 306 | nuevo progreso\n",
      "Processing Record 307 | pangnirtung\n",
      "City Not Found\n",
      "City Not Found\n",
      "City Not Found\n",
      "Processing Record 308 | chokurdakh\n",
      "Processing Record 309 | benghazi\n",
      "Processing Record 310 | arraial do cabo\n",
      "Processing Record 311 | sisimiut\n",
      "City Not Found\n",
      "Processing Record 312 | nome\n",
      "Processing Record 313 | praia\n",
      "Processing Record 314 | belmonte\n",
      "Processing Record 315 | beringovskiy\n",
      "Processing Record 316 | flin flon\n",
      "Processing Record 317 | znamenskoye\n",
      "Processing Record 318 | deputatskiy\n",
      "Processing Record 319 | tura\n",
      "Processing Record 320 | emmett\n",
      "Processing Record 321 | pasaje\n",
      "Processing Record 322 | bawku\n",
      "Processing Record 323 | kristiansand\n",
      "Processing Record 324 | dalby\n",
      "Processing Record 325 | rochegda\n",
      "Processing Record 326 | owensboro\n",
      "Processing Record 327 | marivan\n",
      "Processing Record 328 | tilichiki\n",
      "Processing Record 329 | kedrovyy\n",
      "Processing Record 330 | comodoro rivadavia\n",
      "Processing Record 331 | awjilah\n",
      "Processing Record 332 | zemio\n",
      "Processing Record 333 | amethi\n",
      "Processing Record 334 | cockburn town\n",
      "City Not Found\n",
      "Processing Record 335 | pisco\n",
      "Processing Record 336 | beyneu\n",
      "Processing Record 337 | coari\n",
      "City Not Found\n",
      "Processing Record 338 | puerto madero\n",
      "Processing Record 339 | srednekolymsk\n",
      "Processing Record 340 | mokhotlong\n",
      "Processing Record 341 | ayan\n",
      "Processing Record 342 | andenes\n",
      "Processing Record 343 | abalak\n",
      "Processing Record 344 | half moon bay\n",
      "Processing Record 345 | bonavista\n",
      "Processing Record 346 | wilmington\n",
      "Processing Record 347 | bridlington\n",
      "Processing Record 348 | punta cardon\n",
      "Processing Record 349 | mehran\n",
      "Processing Record 350 | porto santo\n",
      "Processing Record 351 | saint-augustin\n",
      "City Not Found\n",
      "Processing Record 352 | pascagoula\n",
      "Processing Record 353 | keetmanshoop\n",
      "Processing Record 354 | bosaso\n",
      "Processing Record 355 | turan\n",
      "Processing Record 356 | fortuna\n",
      "Processing Record 357 | quanzhou\n",
      "Processing Record 358 | khokhryaki\n",
      "Processing Record 359 | palu\n",
      "Processing Record 360 | shimoda\n",
      "Processing Record 361 | montepuez\n",
      "Processing Record 362 | hobyo\n",
      "Processing Record 363 | soubre\n",
      "Processing Record 364 | weyburn\n",
      "Processing Record 365 | vardo\n",
      "Processing Record 366 | college\n",
      "Processing Record 367 | zyryanka\n",
      "Processing Record 368 | sabya\n",
      "Processing Record 369 | ruteng\n",
      "Processing Record 370 | leh\n",
      "Processing Record 371 | gerzat\n",
      "Processing Record 372 | east london\n",
      "Processing Record 373 | kamyaran\n",
      "Processing Record 374 | balkanabat\n",
      "Processing Record 375 | mizque\n",
      "Processing Record 376 | labrea\n",
      "Processing Record 377 | touros\n",
      "Processing Record 378 | yerbogachen\n",
      "Processing Record 379 | saint-cloud\n",
      "Processing Record 380 | athabasca\n",
      "Processing Record 381 | chuy\n",
      "Processing Record 382 | chabahar\n",
      "Processing Record 383 | aksarka\n",
      "Processing Record 384 | la tuque\n",
      "Processing Record 385 | shannon\n",
      "Processing Record 386 | umm lajj\n",
      "Processing Record 387 | arkhangelsk\n",
      "Processing Record 388 | klaksvik\n",
      "Processing Record 389 | puerto escondido\n",
      "Processing Record 390 | chengde\n",
      "Processing Record 391 | makakilo city\n",
      "Processing Record 392 | iqaluit\n",
      "Processing Record 393 | viedma\n",
      "Processing Record 394 | kondinskoye\n",
      "Processing Record 395 | padang\n",
      "Processing Record 396 | burnie\n",
      "Processing Record 397 | kangasala\n",
      "Processing Record 398 | bonito\n",
      "Processing Record 399 | panguna\n",
      "Processing Record 400 | sistranda\n",
      "Processing Record 401 | yalta\n",
      "Processing Record 402 | oyama\n",
      "Processing Record 403 | kloulklubed\n",
      "City Not Found\n",
      "Processing Record 404 | san policarpo\n",
      "Processing Record 405 | escarcega\n",
      "City Not Found\n",
      "City Not Found\n",
      "Processing Record 406 | faya\n",
      "Processing Record 407 | juegang\n",
      "Processing Record 408 | isiro\n",
      "Processing Record 409 | guider\n",
      "Processing Record 410 | tiznit\n",
      "Processing Record 411 | antofagasta\n",
      "Processing Record 412 | norrkoping\n",
      "Processing Record 413 | diffa\n",
      "Processing Record 414 | koutiala\n",
      "Processing Record 415 | kesan\n",
      "Processing Record 416 | sokoto\n",
      "Processing Record 417 | moranbah\n",
      "Processing Record 418 | anito\n",
      "Processing Record 419 | acarau\n",
      "Processing Record 420 | niquero\n",
      "Processing Record 421 | marsaxlokk\n",
      "Processing Record 422 | vrangel\n",
      "Processing Record 423 | kastamonu\n",
      "Processing Record 424 | colac\n",
      "Processing Record 425 | wajima\n",
      "Processing Record 426 | bemidji\n",
      "Processing Record 427 | chicama\n",
      "Processing Record 428 | egvekinot\n",
      "Processing Record 429 | monastyrshchina\n",
      "Processing Record 430 | elizabeth city\n",
      "City Not Found\n",
      "Processing Record 431 | gedo\n",
      "Processing Record 432 | harsud\n",
      "Processing Record 433 | salvador\n",
      "City Not Found\n",
      "Processing Record 434 | nizhniy kuranakh\n",
      "Processing Record 435 | adrar\n",
      "Processing Record 436 | kedougou\n",
      "City Not Found\n",
      "Processing Record 437 | fort nelson\n",
      "Processing Record 438 | siniscola\n",
      "City Not Found\n",
      "Processing Record 439 | mahajanga\n",
      "Processing Record 440 | kargasok\n",
      "Processing Record 441 | sawtell\n",
      "Processing Record 442 | elk city\n",
      "Processing Record 443 | olga\n",
      "Processing Record 444 | boa vista\n",
      "Processing Record 445 | mumford\n",
      "Processing Record 446 | grand forks\n",
      "City Not Found\n",
      "Processing Record 447 | leshukonskoye\n",
      "Processing Record 448 | harper\n",
      "Processing Record 449 | oktyabrskoye\n",
      "Processing Record 450 | moses lake\n",
      "Processing Record 451 | lambarene\n",
      "Processing Record 452 | caranavi\n",
      "Processing Record 453 | rockledge\n",
      "Processing Record 454 | naron\n",
      "Processing Record 455 | pirawa\n",
      "Processing Record 456 | turukhansk\n",
      "Processing Record 457 | kirakira\n",
      "Processing Record 458 | minot\n",
      "Processing Record 459 | preobrazheniye\n",
      "Processing Record 460 | lata\n",
      "Processing Record 461 | mogocha\n",
      "Processing Record 462 | mach\n",
      "Processing Record 463 | kutahya\n",
      "City Not Found\n",
      "City Not Found\n",
      "Processing Record 464 | portland\n",
      "Processing Record 465 | mantua\n",
      "Processing Record 466 | anadyr\n",
      "Processing Record 467 | kavaratti\n",
      "Processing Record 468 | dickson\n",
      "Processing Record 469 | sakakah\n",
      "Processing Record 470 | camana\n",
      "City Not Found\n",
      "Processing Record 471 | san cristobal\n",
      "Processing Record 472 | ixtapa\n",
      "Processing Record 473 | batagay-alyta\n",
      "Processing Record 474 | remanso\n",
      "Processing Record 475 | cottonwood\n",
      "Processing Record 476 | sibu\n",
      "Processing Record 477 | namie\n",
      "Processing Record 478 | kindu\n"
     ]
    },
    {
     "name": "stdout",
     "output_type": "stream",
     "text": [
      "Processing Record 479 | laje\n",
      "Processing Record 480 | liverpool\n",
      "Processing Record 481 | gweta\n",
      "Processing Record 482 | huntley\n",
      "Processing Record 483 | buchanan\n",
      "Processing Record 484 | murray bridge\n",
      "Processing Record 485 | maceio\n",
      "Processing Record 486 | sorland\n",
      "Processing Record 487 | shawnee\n",
      "Processing Record 488 | mago\n",
      "Processing Record 489 | yamada\n",
      "Processing Record 490 | jiaonan\n",
      "Processing Record 491 | okhotsk\n",
      "Processing Record 492 | mutoko\n",
      "Processing Record 493 | conceicao do araguaia\n",
      "Processing Record 494 | savonlinna\n",
      "Processing Record 495 | sosnovo-ozerskoye\n",
      "Processing Record 496 | shumskiy\n",
      "Processing Record 497 | marmande\n",
      "Processing Record 498 | macau\n",
      "City Not Found\n",
      "Processing Record 499 | valentin gomez farias\n",
      "Processing Record 500 | toora-khem\n",
      "Processing Record 501 | esna\n",
      "Processing Record 502 | point pedro\n",
      "City Not Found\n",
      "Processing Record 503 | pocone\n",
      "Processing Record 504 | kahului\n",
      "Processing Record 505 | nchelenge\n",
      "Processing Record 506 | ferrol\n",
      "Processing Record 507 | ipixuna\n",
      "Processing Record 508 | taltal\n",
      "Processing Record 509 | winneba\n",
      "Processing Record 510 | wuchi\n",
      "Processing Record 511 | svay rieng\n",
      "Processing Record 512 | hondo\n",
      "Processing Record 513 | ola\n",
      "Processing Record 514 | taunggyi\n",
      "Processing Record 515 | tsiroanomandidy\n",
      "Processing Record 516 | lerwick\n",
      "Processing Record 517 | port shepstone\n",
      "Processing Record 518 | linxia\n",
      "Processing Record 519 | calvinia\n",
      "Processing Record 520 | tirumullaivasal\n",
      "Processing Record 521 | sabang\n",
      "Processing Record 522 | utmanzai\n",
      "Processing Record 523 | shieli\n",
      "Processing Record 524 | prince rupert\n",
      "Processing Record 525 | nizhniy ufaley\n",
      "City Not Found\n",
      "Processing Record 526 | sitka\n",
      "Processing Record 527 | harindanga\n",
      "Processing Record 528 | nordenham\n",
      "Processing Record 529 | mwinilunga\n",
      "Processing Record 530 | sobinka\n",
      "Processing Record 531 | nouakchott\n",
      "City Not Found\n",
      "Processing Record 532 | keti bandar\n",
      "Processing Record 533 | pailon\n",
      "Processing Record 534 | hoi an\n",
      "Processing Record 535 | wajid\n",
      "Processing Record 536 | usak\n",
      "City Not Found\n",
      "Processing Record 537 | margate\n",
      "Processing Record 538 | aykhal\n",
      "Processing Record 539 | pacific grove\n",
      "City Not Found\n",
      "Processing Record 540 | kashirskoye\n",
      "City Not Found\n",
      "City Not Found\n",
      "Processing Record 541 | kasempa\n",
      "Processing Record 542 | orhei\n",
      "Processing Record 543 | thunder bay\n",
      "Processing Record 544 | palana\n",
      "City Not Found\n",
      "Processing Record 545 | kayerkan\n",
      "Processing Record 546 | pervomayskoye\n",
      "Processing Record 547 | casablanca\n",
      "Processing Record 548 | inhambane\n",
      "Processing Record 549 | tyrma\n",
      "Processing Record 550 | lodja\n",
      "Processing Record 551 | sungairaya\n",
      "Processing Record 552 | uvalde\n",
      "Processing Record 553 | waingapu\n",
      "Processing Record 554 | praia da vitoria\n",
      "Processing Record 555 | pinillos\n",
      "Processing Record 556 | slave lake\n",
      "Processing Record 557 | kinango\n",
      "Processing Record 558 | fasa\n",
      "Processing Record 559 | monaco-ville\n",
      "Processing Record 560 | gallup\n",
      "Processing Record 561 | garden city\n",
      "City Not Found\n",
      "Processing Record 562 | bouca\n",
      "Processing Record 563 | rosita\n",
      "Processing Record 564 | baruun-urt\n",
      "Processing Record 565 | aripuana\n",
      "Processing Record 566 | severo-yeniseyskiy\n",
      "Processing Record 567 | placido de castro\n",
      "Processing Record 568 | loralai\n",
      "---------------\n"
     ]
    }
   ],
   "source": [
    "# Per Weather API documentation, use the URL structure below...\n",
    "# api.openweathermap.org/data/2.5/weather?q={city name}&appid={API key}&units=imperial\n",
    "# ^Need to switch from standard units to imperial as well\n",
    "\n",
    "url = \"http://api.openweathermap.org/data/2.5/weather\"\n",
    "    \n",
    "url_w_units_api = url + \"?units=imperial&appid=\" + weather_api_key \n",
    "\n",
    "# Define lists of weather related data to retieve via calls\n",
    "temp = []\n",
    "city_names = []\n",
    "lat = []\n",
    "long = []\n",
    "cloud = []\n",
    "wind = []\n",
    "humidity = []\n",
    "date = []\n",
    "country = []\n",
    "\n",
    "print(\"---------------\")\n",
    "print(\"Beginning Data Retrieval\")\n",
    "print(\"---------------\")\n",
    "\n",
    "city_counter = 0\n",
    "\n",
    "# Structure query URL based on API documentation\n",
    "for city in cities:\n",
    "    query_url = url_w_units_api + \"&q=\" + city\n",
    "    response = requests.get(query_url)\n",
    "    \n",
    "    # print(query_url)\n",
    "    \n",
    "    # Need to account for handful of city not found 404 errors below in append\n",
    "    if response.status_code != 404:\n",
    "    \n",
    "    # append all lists - looked at example url http://api.openweathermap.org/data/2.5/weather?q=london&appid=ecfdfe218ded7750b5efdda70abe2d18 to structure append mapping\n",
    "        response = response.json()\n",
    "        temp.append(response[\"main\"][\"temp_max\"])\n",
    "        city_names.append(city)\n",
    "        lat.append(response[\"coord\"][\"lat\"])\n",
    "        long.append(response[\"coord\"][\"lon\"])\n",
    "        cloud.append(response[\"clouds\"][\"all\"])\n",
    "        wind.append(response[\"wind\"][\"speed\"])\n",
    "        humidity.append(response[\"main\"][\"humidity\"])\n",
    "        date.append(response[\"dt\"])\n",
    "        country.append(response[\"sys\"][\"country\"])\n",
    "        \n",
    "        print(\"Processing Record \" + str(city_counter) + \" | \" + city)\n",
    "        \n",
    "        city_counter = city_counter + 1\n",
    "        \n",
    "    else: print(\"City Not Found\")\n",
    "                \n",
    "print(\"---------------\")"
   ]
  },
  {
   "cell_type": "markdown",
   "metadata": {},
   "source": [
    "### Convert Raw Data to DataFrame\n",
    "* Export the city data into a .csv.\n",
    "* Display the DataFrame"
   ]
  },
  {
   "cell_type": "code",
   "execution_count": 153,
   "metadata": {},
   "outputs": [
    {
     "data": {
      "text/html": [
       "<div>\n",
       "<style scoped>\n",
       "    .dataframe tbody tr th:only-of-type {\n",
       "        vertical-align: middle;\n",
       "    }\n",
       "\n",
       "    .dataframe tbody tr th {\n",
       "        vertical-align: top;\n",
       "    }\n",
       "\n",
       "    .dataframe thead th {\n",
       "        text-align: right;\n",
       "    }\n",
       "</style>\n",
       "<table border=\"1\" class=\"dataframe\">\n",
       "  <thead>\n",
       "    <tr style=\"text-align: right;\">\n",
       "      <th></th>\n",
       "      <th>City</th>\n",
       "      <th>Lat</th>\n",
       "      <th>Lng</th>\n",
       "      <th>Max Temp</th>\n",
       "      <th>Humidity</th>\n",
       "      <th>Cloudiness</th>\n",
       "      <th>Wind Speed</th>\n",
       "      <th>Country</th>\n",
       "      <th>Date</th>\n",
       "    </tr>\n",
       "  </thead>\n",
       "  <tbody>\n",
       "    <tr>\n",
       "      <th>0</th>\n",
       "      <td>bonthe</td>\n",
       "      <td>7.53</td>\n",
       "      <td>-12.51</td>\n",
       "      <td>86.63</td>\n",
       "      <td>53</td>\n",
       "      <td>100</td>\n",
       "      <td>3.58</td>\n",
       "      <td>SL</td>\n",
       "      <td>1608210712</td>\n",
       "    </tr>\n",
       "    <tr>\n",
       "      <th>1</th>\n",
       "      <td>mao</td>\n",
       "      <td>39.89</td>\n",
       "      <td>4.27</td>\n",
       "      <td>62.60</td>\n",
       "      <td>88</td>\n",
       "      <td>75</td>\n",
       "      <td>11.41</td>\n",
       "      <td>ES</td>\n",
       "      <td>1608210712</td>\n",
       "    </tr>\n",
       "    <tr>\n",
       "      <th>2</th>\n",
       "      <td>heishan</td>\n",
       "      <td>41.69</td>\n",
       "      <td>122.11</td>\n",
       "      <td>16.90</td>\n",
       "      <td>87</td>\n",
       "      <td>0</td>\n",
       "      <td>5.91</td>\n",
       "      <td>CN</td>\n",
       "      <td>1608210712</td>\n",
       "    </tr>\n",
       "    <tr>\n",
       "      <th>3</th>\n",
       "      <td>asau</td>\n",
       "      <td>46.43</td>\n",
       "      <td>26.40</td>\n",
       "      <td>37.40</td>\n",
       "      <td>93</td>\n",
       "      <td>90</td>\n",
       "      <td>3.36</td>\n",
       "      <td>RO</td>\n",
       "      <td>1608210260</td>\n",
       "    </tr>\n",
       "    <tr>\n",
       "      <th>4</th>\n",
       "      <td>alofi</td>\n",
       "      <td>-19.06</td>\n",
       "      <td>-169.92</td>\n",
       "      <td>75.20</td>\n",
       "      <td>94</td>\n",
       "      <td>100</td>\n",
       "      <td>1.12</td>\n",
       "      <td>NU</td>\n",
       "      <td>1608210712</td>\n",
       "    </tr>\n",
       "    <tr>\n",
       "      <th>5</th>\n",
       "      <td>lebu</td>\n",
       "      <td>-37.62</td>\n",
       "      <td>-73.65</td>\n",
       "      <td>58.95</td>\n",
       "      <td>60</td>\n",
       "      <td>0</td>\n",
       "      <td>13.33</td>\n",
       "      <td>CL</td>\n",
       "      <td>1608210712</td>\n",
       "    </tr>\n",
       "    <tr>\n",
       "      <th>6</th>\n",
       "      <td>norman wells</td>\n",
       "      <td>65.28</td>\n",
       "      <td>-126.83</td>\n",
       "      <td>-50.80</td>\n",
       "      <td>71</td>\n",
       "      <td>20</td>\n",
       "      <td>2.24</td>\n",
       "      <td>CA</td>\n",
       "      <td>1608210247</td>\n",
       "    </tr>\n",
       "    <tr>\n",
       "      <th>7</th>\n",
       "      <td>mount pleasant</td>\n",
       "      <td>32.79</td>\n",
       "      <td>-79.86</td>\n",
       "      <td>42.01</td>\n",
       "      <td>100</td>\n",
       "      <td>90</td>\n",
       "      <td>9.17</td>\n",
       "      <td>US</td>\n",
       "      <td>1608210421</td>\n",
       "    </tr>\n",
       "    <tr>\n",
       "      <th>8</th>\n",
       "      <td>monte escobedo</td>\n",
       "      <td>22.30</td>\n",
       "      <td>-103.58</td>\n",
       "      <td>36.97</td>\n",
       "      <td>78</td>\n",
       "      <td>0</td>\n",
       "      <td>2.08</td>\n",
       "      <td>MX</td>\n",
       "      <td>1608210712</td>\n",
       "    </tr>\n",
       "    <tr>\n",
       "      <th>9</th>\n",
       "      <td>ribeira grande</td>\n",
       "      <td>38.52</td>\n",
       "      <td>-28.70</td>\n",
       "      <td>66.20</td>\n",
       "      <td>88</td>\n",
       "      <td>75</td>\n",
       "      <td>24.16</td>\n",
       "      <td>PT</td>\n",
       "      <td>1608210712</td>\n",
       "    </tr>\n",
       "  </tbody>\n",
       "</table>\n",
       "</div>"
      ],
      "text/plain": [
       "             City    Lat     Lng  Max Temp  Humidity  Cloudiness  Wind Speed  \\\n",
       "0          bonthe   7.53  -12.51     86.63        53         100        3.58   \n",
       "1             mao  39.89    4.27     62.60        88          75       11.41   \n",
       "2         heishan  41.69  122.11     16.90        87           0        5.91   \n",
       "3            asau  46.43   26.40     37.40        93          90        3.36   \n",
       "4           alofi -19.06 -169.92     75.20        94         100        1.12   \n",
       "5            lebu -37.62  -73.65     58.95        60           0       13.33   \n",
       "6    norman wells  65.28 -126.83    -50.80        71          20        2.24   \n",
       "7  mount pleasant  32.79  -79.86     42.01       100          90        9.17   \n",
       "8  monte escobedo  22.30 -103.58     36.97        78           0        2.08   \n",
       "9  ribeira grande  38.52  -28.70     66.20        88          75       24.16   \n",
       "\n",
       "  Country        Date  \n",
       "0      SL  1608210712  \n",
       "1      ES  1608210712  \n",
       "2      CN  1608210712  \n",
       "3      RO  1608210260  \n",
       "4      NU  1608210712  \n",
       "5      CL  1608210712  \n",
       "6      CA  1608210247  \n",
       "7      US  1608210421  \n",
       "8      MX  1608210712  \n",
       "9      PT  1608210712  "
      ]
     },
     "execution_count": 153,
     "metadata": {},
     "output_type": "execute_result"
    }
   ],
   "source": [
    "# Put the data into a dataframe\n",
    "weather_df = pd.DataFrame({\"City\": city_names, \"Lat\": lat, \"Lng\": long, \"Max Temp\": temp, \"Humidity\": humidity, \"Cloudiness\": cloud, \"Wind Speed\": wind, \"Country\": country, \"Date\": date})\n",
    "weather_df.head(10)"
   ]
  },
  {
   "cell_type": "code",
   "execution_count": 154,
   "metadata": {},
   "outputs": [],
   "source": [
    "# Write to csv\n",
    "weather_df.to_csv(\"cities.csv\", index=False, header=True)"
   ]
  },
  {
   "cell_type": "code",
   "execution_count": 155,
   "metadata": {},
   "outputs": [
    {
     "data": {
      "text/html": [
       "<div>\n",
       "<style scoped>\n",
       "    .dataframe tbody tr th:only-of-type {\n",
       "        vertical-align: middle;\n",
       "    }\n",
       "\n",
       "    .dataframe tbody tr th {\n",
       "        vertical-align: top;\n",
       "    }\n",
       "\n",
       "    .dataframe thead th {\n",
       "        text-align: right;\n",
       "    }\n",
       "</style>\n",
       "<table border=\"1\" class=\"dataframe\">\n",
       "  <thead>\n",
       "    <tr style=\"text-align: right;\">\n",
       "      <th></th>\n",
       "      <th>Lat</th>\n",
       "      <th>Lng</th>\n",
       "      <th>Max Temp</th>\n",
       "      <th>Humidity</th>\n",
       "      <th>Cloudiness</th>\n",
       "      <th>Wind Speed</th>\n",
       "      <th>Date</th>\n",
       "    </tr>\n",
       "  </thead>\n",
       "  <tbody>\n",
       "    <tr>\n",
       "      <th>count</th>\n",
       "      <td>569.000000</td>\n",
       "      <td>569.000000</td>\n",
       "      <td>569.000000</td>\n",
       "      <td>569.000000</td>\n",
       "      <td>569.000000</td>\n",
       "      <td>569.000000</td>\n",
       "      <td>5.690000e+02</td>\n",
       "    </tr>\n",
       "    <tr>\n",
       "      <th>mean</th>\n",
       "      <td>21.598576</td>\n",
       "      <td>17.484569</td>\n",
       "      <td>50.816977</td>\n",
       "      <td>73.400703</td>\n",
       "      <td>58.001757</td>\n",
       "      <td>8.752144</td>\n",
       "      <td>1.608211e+09</td>\n",
       "    </tr>\n",
       "    <tr>\n",
       "      <th>std</th>\n",
       "      <td>32.612145</td>\n",
       "      <td>90.928555</td>\n",
       "      <td>31.708604</td>\n",
       "      <td>20.430690</td>\n",
       "      <td>39.810665</td>\n",
       "      <td>6.114400</td>\n",
       "      <td>1.513003e+02</td>\n",
       "    </tr>\n",
       "    <tr>\n",
       "      <th>min</th>\n",
       "      <td>-54.800000</td>\n",
       "      <td>-179.170000</td>\n",
       "      <td>-50.800000</td>\n",
       "      <td>8.000000</td>\n",
       "      <td>0.000000</td>\n",
       "      <td>0.580000</td>\n",
       "      <td>1.608210e+09</td>\n",
       "    </tr>\n",
       "    <tr>\n",
       "      <th>25%</th>\n",
       "      <td>-5.200000</td>\n",
       "      <td>-65.340000</td>\n",
       "      <td>28.400000</td>\n",
       "      <td>64.000000</td>\n",
       "      <td>20.000000</td>\n",
       "      <td>4.470000</td>\n",
       "      <td>1.608211e+09</td>\n",
       "    </tr>\n",
       "    <tr>\n",
       "      <th>50%</th>\n",
       "      <td>27.980000</td>\n",
       "      <td>24.730000</td>\n",
       "      <td>57.990000</td>\n",
       "      <td>79.000000</td>\n",
       "      <td>75.000000</td>\n",
       "      <td>6.930000</td>\n",
       "      <td>1.608211e+09</td>\n",
       "    </tr>\n",
       "    <tr>\n",
       "      <th>75%</th>\n",
       "      <td>47.890000</td>\n",
       "      <td>97.030000</td>\n",
       "      <td>77.670000</td>\n",
       "      <td>88.000000</td>\n",
       "      <td>97.000000</td>\n",
       "      <td>11.430000</td>\n",
       "      <td>1.608211e+09</td>\n",
       "    </tr>\n",
       "    <tr>\n",
       "      <th>max</th>\n",
       "      <td>78.220000</td>\n",
       "      <td>179.320000</td>\n",
       "      <td>101.820000</td>\n",
       "      <td>100.000000</td>\n",
       "      <td>100.000000</td>\n",
       "      <td>34.450000</td>\n",
       "      <td>1.608211e+09</td>\n",
       "    </tr>\n",
       "  </tbody>\n",
       "</table>\n",
       "</div>"
      ],
      "text/plain": [
       "              Lat         Lng    Max Temp    Humidity  Cloudiness  Wind Speed  \\\n",
       "count  569.000000  569.000000  569.000000  569.000000  569.000000  569.000000   \n",
       "mean    21.598576   17.484569   50.816977   73.400703   58.001757    8.752144   \n",
       "std     32.612145   90.928555   31.708604   20.430690   39.810665    6.114400   \n",
       "min    -54.800000 -179.170000  -50.800000    8.000000    0.000000    0.580000   \n",
       "25%     -5.200000  -65.340000   28.400000   64.000000   20.000000    4.470000   \n",
       "50%     27.980000   24.730000   57.990000   79.000000   75.000000    6.930000   \n",
       "75%     47.890000   97.030000   77.670000   88.000000   97.000000   11.430000   \n",
       "max     78.220000  179.320000  101.820000  100.000000  100.000000   34.450000   \n",
       "\n",
       "               Date  \n",
       "count  5.690000e+02  \n",
       "mean   1.608211e+09  \n",
       "std    1.513003e+02  \n",
       "min    1.608210e+09  \n",
       "25%    1.608211e+09  \n",
       "50%    1.608211e+09  \n",
       "75%    1.608211e+09  \n",
       "max    1.608211e+09  "
      ]
     },
     "execution_count": 155,
     "metadata": {},
     "output_type": "execute_result"
    }
   ],
   "source": [
    "# Use describe to summarize the stats below\n",
    "weather_df_stats = weather_df[[\"Lat\", \"Lng\", \"Max Temp\", \"Humidity\", \"Cloudiness\", \"Wind Speed\", \"Date\"]].describe()\n",
    "weather_df_stats"
   ]
  },
  {
   "cell_type": "markdown",
   "metadata": {},
   "source": [
    "## Inspect the data and remove the cities where the humidity > 100%.\n",
    "----\n",
    "Skip this step if there are no cities that have humidity > 100%. "
   ]
  },
  {
   "cell_type": "code",
   "execution_count": 156,
   "metadata": {},
   "outputs": [],
   "source": [
    "# max is 100, so skip"
   ]
  },
  {
   "cell_type": "code",
   "execution_count": 157,
   "metadata": {},
   "outputs": [],
   "source": [
    "#  Get the indices of cities that have humidity over 100%.\n",
    "# none over 100%, so skip"
   ]
  },
  {
   "cell_type": "code",
   "execution_count": 158,
   "metadata": {},
   "outputs": [],
   "source": [
    "# Make a new DataFrame equal to the city data to drop all humidity outliers by index.\n",
    "# Passing \"inplace=False\" will make a copy of the city_data DataFrame, which we call \"clean_city_data\".\n",
    "\n",
    "# none over 100%, so skip"
   ]
  },
  {
   "cell_type": "markdown",
   "metadata": {},
   "source": [
    "## Plotting the Data\n",
    "* Use proper labeling of the plots using plot titles (including date of analysis) and axes labels.\n",
    "* Save the plotted figures as .pngs."
   ]
  },
  {
   "cell_type": "markdown",
   "metadata": {},
   "source": [
    "## Latitude vs. Temperature Plot"
   ]
  },
  {
   "cell_type": "code",
   "execution_count": 159,
   "metadata": {
    "scrolled": true
   },
   "outputs": [
    {
     "data": {
      "image/png": "[encoded data removed]",
      "text/plain": [
       "<Figure size 432x288 with 1 Axes>"
      ]
     },
     "metadata": {
      "needs_background": "light"
     },
     "output_type": "display_data"
    }
   ],
   "source": [
    "weather_df.plot(kind = \"scatter\", x = \"Lat\", y = \"Max Temp\", c = \"Blue\")\n",
    "\n",
    "# formatting, titles, etc.\n",
    "plt.grid()\n",
    "plt.xlabel(\"Latitude\")\n",
    "plt.ylabel(\"Max Temperature (F)\")\n",
    "plt.title(\"City Latitude vs. Max Temperature\")\n",
    "\n",
    "# save as PNG\n",
    "plt.savefig(\"Lat_vs_MaxTemp.png\")\n",
    "\n",
    "# the code above is plotting latitude values from our dataframe against max temp values from our dataframe on a scatterplot, aiding in identifying any relationship(s) between the variables."
   ]
  },
  {
   "cell_type": "markdown",
   "metadata": {},
   "source": [
    "## Latitude vs. Humidity Plot"
   ]
  },
  {
   "cell_type": "code",
   "execution_count": 160,
   "metadata": {},
   "outputs": [
    {
     "data": {
      "image/png": "[encoded data removed]",
      "text/plain": [
       "<Figure size 432x288 with 1 Axes>"
      ]
     },
     "metadata": {
      "needs_background": "light"
     },
     "output_type": "display_data"
    }
   ],
   "source": [
    "weather_df.plot(kind = \"scatter\", x = \"Lat\", y = \"Humidity\", c = \"Blue\")\n",
    "\n",
    "# formatting, titles, etc.\n",
    "plt.grid()\n",
    "plt.xlabel(\"Latitude\")\n",
    "plt.ylabel(\"Humidity (%)\")\n",
    "plt.title(\"City Latitude vs. Humidity\")\n",
    "\n",
    "# save as PNG\n",
    "plt.savefig(\"Lat_vs_Humidity.png\")\n",
    "\n",
    "# the code above is plotting latitude values from our dataframe against humidity values from our dataframe on a scatterplot, aiding in identifying any relationship(s) between the variables."
   ]
  },
  {
   "cell_type": "markdown",
   "metadata": {},
   "source": [
    "## Latitude vs. Cloudiness Plot"
   ]
  },
  {
   "cell_type": "code",
   "execution_count": 161,
   "metadata": {},
   "outputs": [
    {
     "data": {
      "image/png": "[encoded data removed]",
      "text/plain": [
       "<Figure size 432x288 with 1 Axes>"
      ]
     },
     "metadata": {
      "needs_background": "light"
     },
     "output_type": "display_data"
    }
   ],
   "source": [
    "weather_df.plot(kind = \"scatter\", x = \"Lat\", y = \"Cloudiness\", c = \"Blue\")\n",
    "\n",
    "# formatting, titles, etc.\n",
    "plt.grid()\n",
    "plt.xlabel(\"Latitude\")\n",
    "plt.ylabel(\"Cloudiness (%)\")\n",
    "plt.title(\"City Latitude vs. Cloudiness\")\n",
    "\n",
    "# save as PNG\n",
    "plt.savefig(\"Lat_vs_Cloud.png\")\n",
    "\n",
    "# the code above is plotting latitude values from our dataframe against cloudiness values from our dataframe on a scatterplot, aiding in identifying any relationship(s) between the variables."
   ]
  },
  {
   "cell_type": "markdown",
   "metadata": {},
   "source": [
    "## Latitude vs. Wind Speed Plot"
   ]
  },
  {
   "cell_type": "code",
   "execution_count": 162,
   "metadata": {},
   "outputs": [
    {
     "data": {
      "image/png": "[encoded data removed]",
      "text/plain": [
       "<Figure size 432x288 with 1 Axes>"
      ]
     },
     "metadata": {
      "needs_background": "light"
     },
     "output_type": "display_data"
    }
   ],
   "source": [
    "weather_df.plot(kind = \"scatter\", x = \"Lat\", y = \"Wind Speed\", c = \"Blue\")\n",
    "\n",
    "# formatting, titles, etc.\n",
    "plt.grid()\n",
    "plt.xlabel(\"Latitude\")\n",
    "plt.ylabel(\"Wind Speed (mph)\")\n",
    "plt.title(\"City Latitude vs. Wind Speed\")\n",
    "\n",
    "# save as PNG\n",
    "plt.savefig(\"Lat_vs_Wind.png\")\n",
    "\n",
    "# the code above is plotting latitude values from our dataframe against wind speed values from our dataframe on a scatterplot, aiding in identifying any relationship(s) between the variables."
   ]
  },
  {
   "cell_type": "markdown",
   "metadata": {},
   "source": [
    "## Linear Regression"
   ]
  },
  {
   "cell_type": "code",
   "execution_count": 163,
   "metadata": {},
   "outputs": [],
   "source": [
    "# Seperate out the hemispheres into different dataframes\n",
    "weather_df_N = weather_df[weather_df[\"Lat\"]>=0]\n",
    "weather_df_S = weather_df[weather_df[\"Lat\"]<0]"
   ]
  },
  {
   "cell_type": "markdown",
   "metadata": {},
   "source": [
    "####  Northern Hemisphere - Max Temp vs. Latitude Linear Regression"
   ]
  },
  {
   "cell_type": "code",
   "execution_count": 164,
   "metadata": {},
   "outputs": [
    {
     "name": "stdout",
     "output_type": "stream",
     "text": [
      "The r-squared value is: 0.7157271610454037\n"
     ]
    },
    {
     "data": {
      "image/png": "[encoded data removed]",
      "text/plain": [
       "<Figure size 432x288 with 1 Axes>"
      ]
     },
     "metadata": {
      "needs_background": "light"
     },
     "output_type": "display_data"
    }
   ],
   "source": [
    "x_values = weather_df_N[\"Lat\"]\n",
    "\n",
    "y_values = weather_df_N[\"Max Temp\"]\n",
    "\n",
    "# Use linregress module as shown in class examples\n",
    "(slope, intercept, rvalue, pvalue, stderr) = linregress(x_values, y_values)\n",
    "regress_values = x_values * slope + intercept\n",
    "line_eq = \"y = \" + str(round(slope,2)) + \"x + \" + str(round(intercept, 2))\n",
    "plt.scatter(x_values, y_values)\n",
    "plt.plot(x_values, regress_values, \"r-\")\n",
    "plt.annotate(line_eq,(6,10),fontsize=12,color=\"red\")\n",
    "plt.xlabel(\"Latitude\")\n",
    "plt.ylabel(\"Max Temp\")\n",
    "print(f\"The r-squared value is: {rvalue**2}\")\n",
    "plt.show()\n",
    "\n",
    "# I see in the N Hemisphere that temps tend to drop as latitude increases. R^2 is above .5, so this is a pretty clear trend."
   ]
  },
  {
   "cell_type": "markdown",
   "metadata": {},
   "source": [
    "####  Southern Hemisphere - Max Temp vs. Latitude Linear Regression"
   ]
  },
  {
   "cell_type": "code",
   "execution_count": 165,
   "metadata": {},
   "outputs": [
    {
     "name": "stdout",
     "output_type": "stream",
     "text": [
      "The r-squared value is: 0.3666643679058822\n"
     ]
    },
    {
     "data": {
      "image/png": "[encoded data removed]",
      "text/plain": [
       "<Figure size 432x288 with 1 Axes>"
      ]
     },
     "metadata": {
      "needs_background": "light"
     },
     "output_type": "display_data"
    }
   ],
   "source": [
    "x_values = weather_df_S[\"Lat\"]\n",
    "\n",
    "y_values = weather_df_S[\"Max Temp\"]\n",
    "\n",
    "# Use linregress module as shown in class examples\n",
    "(slope, intercept, rvalue, pvalue, stderr) = linregress(x_values, y_values)\n",
    "regress_values = x_values * slope + intercept\n",
    "line_eq = \"y = \" + str(round(slope,2)) + \"x + \" + str(round(intercept, 2))\n",
    "plt.scatter(x_values, y_values)\n",
    "plt.plot(x_values, regress_values, \"r-\")\n",
    "plt.annotate(line_eq,(6,10),fontsize=12,color=\"red\")\n",
    "plt.xlabel(\"Latitude\")\n",
    "plt.ylabel(\"Max Temp\")\n",
    "print(f\"The r-squared value is: {rvalue**2}\")\n",
    "plt.show()\n",
    "\n",
    "# I see in the S Hemisphere that temps tend to drop slightly as latitude decreases. It is not as noticeable as in the N Hemisphere though."
   ]
  },
  {
   "cell_type": "markdown",
   "metadata": {},
   "source": [
    "####  Northern Hemisphere - Humidity (%) vs. Latitude Linear Regression"
   ]
  },
  {
   "cell_type": "code",
   "execution_count": 166,
   "metadata": {},
   "outputs": [
    {
     "name": "stdout",
     "output_type": "stream",
     "text": [
      "The r-squared value is: 0.17120880116452997\n"
     ]
    },
    {
     "data": {
      "image/png": "[encoded data removed]",
      "text/plain": [
       "<Figure size 432x288 with 1 Axes>"
      ]
     },
     "metadata": {
      "needs_background": "light"
     },
     "output_type": "display_data"
    }
   ],
   "source": [
    "x_values = weather_df_N[\"Lat\"]\n",
    "\n",
    "y_values = weather_df_N[\"Humidity\"]\n",
    "\n",
    "# Use linregress module as shown in class examples\n",
    "(slope, intercept, rvalue, pvalue, stderr) = linregress(x_values, y_values)\n",
    "regress_values = x_values * slope + intercept\n",
    "line_eq = \"y = \" + str(round(slope,2)) + \"x + \" + str(round(intercept, 2))\n",
    "plt.scatter(x_values, y_values)\n",
    "plt.plot(x_values, regress_values, \"r-\")\n",
    "plt.annotate(line_eq,(6,10),fontsize=12,color=\"red\")\n",
    "plt.xlabel(\"Latitude\")\n",
    "plt.ylabel(\"Humidity\")\n",
    "print(f\"The r-squared value is: {rvalue**2}\")\n",
    "plt.show()\n",
    "\n",
    "# I do not see any obvious relationships between latitude and humidity based on the below."
   ]
  },
  {
   "cell_type": "markdown",
   "metadata": {},
   "source": [
    "####  Southern Hemisphere - Humidity (%) vs. Latitude Linear Regression"
   ]
  },
  {
   "cell_type": "code",
   "execution_count": 167,
   "metadata": {},
   "outputs": [
    {
     "name": "stdout",
     "output_type": "stream",
     "text": [
      "The r-squared value is: 0.01163665379448082\n"
     ]
    },
    {
     "data": {
      "image/png": "[encoded data removed]",
      "text/plain": [
       "<Figure size 432x288 with 1 Axes>"
      ]
     },
     "metadata": {
      "needs_background": "light"
     },
     "output_type": "display_data"
    }
   ],
   "source": [
    "x_values = weather_df_S[\"Lat\"]\n",
    "\n",
    "y_values = weather_df_S[\"Humidity\"]\n",
    "\n",
    "# Use linregress module as shown in class examples\n",
    "(slope, intercept, rvalue, pvalue, stderr) = linregress(x_values, y_values)\n",
    "regress_values = x_values * slope + intercept\n",
    "line_eq = \"y = \" + str(round(slope,2)) + \"x + \" + str(round(intercept, 2))\n",
    "plt.scatter(x_values, y_values)\n",
    "plt.plot(x_values, regress_values, \"r-\")\n",
    "plt.annotate(line_eq,(6,10),fontsize=12,color=\"red\")\n",
    "plt.xlabel(\"Latitude\")\n",
    "plt.ylabel(\"Humidity\")\n",
    "print(f\"The r-squared value is: {rvalue**2}\")\n",
    "plt.show()\n",
    "\n",
    "# I do not see any obvious relationships between latitude and humidity based on the below."
   ]
  },
  {
   "cell_type": "markdown",
   "metadata": {},
   "source": [
    "####  Northern Hemisphere - Cloudiness (%) vs. Latitude Linear Regression"
   ]
  },
  {
   "cell_type": "code",
   "execution_count": 168,
   "metadata": {},
   "outputs": [
    {
     "name": "stdout",
     "output_type": "stream",
     "text": [
      "The r-squared value is: 0.029445369828502623\n"
     ]
    },
    {
     "data": {
      "image/png": "[encoded data removed]",
      "text/plain": [
       "<Figure size 432x288 with 1 Axes>"
      ]
     },
     "metadata": {
      "needs_background": "light"
     },
     "output_type": "display_data"
    }
   ],
   "source": [
    "x_values = weather_df_N[\"Lat\"]\n",
    "\n",
    "y_values = weather_df_N[\"Cloudiness\"]\n",
    "\n",
    "# Use linregress module as shown in class examples\n",
    "(slope, intercept, rvalue, pvalue, stderr) = linregress(x_values, y_values)\n",
    "regress_values = x_values * slope + intercept\n",
    "line_eq = \"y = \" + str(round(slope,2)) + \"x + \" + str(round(intercept, 2))\n",
    "plt.scatter(x_values, y_values)\n",
    "plt.plot(x_values, regress_values, \"r-\")\n",
    "plt.annotate(line_eq,(6,10),fontsize=12,color=\"red\")\n",
    "plt.xlabel(\"Latitude\")\n",
    "plt.ylabel(\"Cloudiness\")\n",
    "print(f\"The r-squared value is: {rvalue**2}\")\n",
    "plt.show()\n",
    "\n",
    "# I do not see any obvious relationships between latitude and cloudiness based on the below."
   ]
  },
  {
   "cell_type": "markdown",
   "metadata": {},
   "source": [
    "####  Southern Hemisphere - Cloudiness (%) vs. Latitude Linear Regression"
   ]
  },
  {
   "cell_type": "code",
   "execution_count": 169,
   "metadata": {},
   "outputs": [
    {
     "name": "stdout",
     "output_type": "stream",
     "text": [
      "The r-squared value is: 0.02704851569733229\n"
     ]
    },
    {
     "data": {
      "image/png": "[encoded data removed]",
      "text/plain": [
       "<Figure size 432x288 with 1 Axes>"
      ]
     },
     "metadata": {
      "needs_background": "light"
     },
     "output_type": "display_data"
    }
   ],
   "source": [
    "x_values = weather_df_S[\"Lat\"]\n",
    "\n",
    "y_values = weather_df_S[\"Cloudiness\"]\n",
    "\n",
    "# Use linregress module as shown in class examples\n",
    "(slope, intercept, rvalue, pvalue, stderr) = linregress(x_values, y_values)\n",
    "regress_values = x_values * slope + intercept\n",
    "line_eq = \"y = \" + str(round(slope,2)) + \"x + \" + str(round(intercept, 2))\n",
    "plt.scatter(x_values, y_values)\n",
    "plt.plot(x_values, regress_values, \"r-\")\n",
    "plt.annotate(line_eq,(6,10),fontsize=12,color=\"red\")\n",
    "plt.xlabel(\"Latitude\")\n",
    "plt.ylabel(\"Cloudiness\")\n",
    "print(f\"The r-squared value is: {rvalue**2}\")\n",
    "plt.show()\n",
    "\n",
    "# I do not see any obvious relationships between latitude and cloudiness based on the below."
   ]
  },
  {
   "cell_type": "markdown",
   "metadata": {},
   "source": [
    "####  Northern Hemisphere - Wind Speed (mph) vs. Latitude Linear Regression"
   ]
  },
  {
   "cell_type": "code",
   "execution_count": 170,
   "metadata": {},
   "outputs": [
    {
     "name": "stdout",
     "output_type": "stream",
     "text": [
      "The r-squared value is: 0.011470242707457366\n"
     ]
    },
    {
     "data": {
      "image/png": "[encoded data removed]",
      "text/plain": [
       "<Figure size 432x288 with 1 Axes>"
      ]
     },
     "metadata": {
      "needs_background": "light"
     },
     "output_type": "display_data"
    }
   ],
   "source": [
    "x_values = weather_df_N[\"Lat\"]\n",
    "\n",
    "y_values = weather_df_N[\"Wind Speed\"]\n",
    "\n",
    "# Use linregress module as shown in class examples\n",
    "(slope, intercept, rvalue, pvalue, stderr) = linregress(x_values, y_values)\n",
    "regress_values = x_values * slope + intercept\n",
    "line_eq = \"y = \" + str(round(slope,2)) + \"x + \" + str(round(intercept, 2))\n",
    "plt.scatter(x_values, y_values)\n",
    "plt.plot(x_values, regress_values, \"r-\")\n",
    "plt.annotate(line_eq,(6,10),fontsize=12,color=\"red\")\n",
    "plt.xlabel(\"Latitude\")\n",
    "plt.ylabel(\"Wind Speed\")\n",
    "print(f\"The r-squared value is: {rvalue**2}\")\n",
    "plt.show()\n",
    "\n",
    "# I do not see any obvious relationships between latitude and wind speed based on the below. However, outliers (high winds) appear to be more frequent at extreme latitudes."
   ]
  },
  {
   "cell_type": "markdown",
   "metadata": {},
   "source": [
    "####  Southern Hemisphere - Wind Speed (mph) vs. Latitude Linear Regression"
   ]
  },
  {
   "cell_type": "code",
   "execution_count": 171,
   "metadata": {},
   "outputs": [
    {
     "name": "stdout",
     "output_type": "stream",
     "text": [
      "The r-squared value is: 0.10959033498796082\n"
     ]
    },
    {
     "data": {
      "image/png": "[encoded data removed]",
      "text/plain": [
       "<Figure size 432x288 with 1 Axes>"
      ]
     },
     "metadata": {
      "needs_background": "light"
     },
     "output_type": "display_data"
    }
   ],
   "source": [
    "x_values = weather_df_S[\"Lat\"]\n",
    "\n",
    "y_values = weather_df_S[\"Wind Speed\"]\n",
    "\n",
    "# Use linregress module as shown in class examples\n",
    "(slope, intercept, rvalue, pvalue, stderr) = linregress(x_values, y_values)\n",
    "regress_values = x_values * slope + intercept\n",
    "line_eq = \"y = \" + str(round(slope,2)) + \"x + \" + str(round(intercept, 2))\n",
    "plt.scatter(x_values, y_values)\n",
    "plt.plot(x_values, regress_values, \"r-\")\n",
    "plt.annotate(line_eq,(6,10),fontsize=12,color=\"red\")\n",
    "plt.xlabel(\"Latitude\")\n",
    "plt.ylabel(\"Wind Speed\")\n",
    "print(f\"The r-squared value is: {rvalue**2}\")\n",
    "plt.show()\n",
    "\n",
    "# I do not see any obvious relationships between latitude and wind speed based on the below. However, outliers (high winds) appear to be more frequent at extreme latitudes."
   ]
  },
  {
   "cell_type": "code",
   "execution_count": null,
   "metadata": {},
   "outputs": [],
   "source": []
  },
  {
   "cell_type": "code",
   "execution_count": null,
   "metadata": {},
   "outputs": [],
   "source": []
  },
  {
   "cell_type": "code",
   "execution_count": null,
   "metadata": {},
   "outputs": [],
   "source": []
  }
 ],
 "metadata": {
  "anaconda-cloud": {},
  "kernel_info": {
   "name": "python3"
  },
  "kernelspec": {
   "display_name": "Python Data",
   "language": "python",
   "name": "pythondata"
  },
  "language_info": {
   "codemirror_mode": {
    "name": "ipython",
    "version": 3
   },
   "file_extension": ".py",
   "mimetype": "text/x-python",
   "name": "python",
   "nbconvert_exporter": "python",
   "pygments_lexer": "ipython3",
   "version": "3.8.5"
  },
  "latex_envs": {
   "LaTeX_envs_menu_present": true,
   "autoclose": false,
   "autocomplete": true,
   "bibliofile": "biblio.bib",
   "cite_by": "apalike",
   "current_citInitial": 1,
   "eqLabelWithNumbers": true,
   "eqNumInitial": 1,
   "hotkeys": {
    "equation": "Ctrl-E",
    "itemize": "Ctrl-I"
   },
   "labels_anchors": false,
   "latex_user_defs": false,
   "report_style_numbering": false,
   "user_envs_cfg": false
  },
  "nteract": {
   "version": "0.12.3"
  }
 },
 "nbformat": 4,
 "nbformat_minor": 2
}
