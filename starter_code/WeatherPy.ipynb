{
 "cells": [
  {
   "cell_type": "markdown",
   "metadata": {},
   "source": [
    "# WeatherPy\n",
    "----\n",
    "\n",
    "#### Note\n",
    "* Instructions have been included for each segment. You do not have to follow them exactly, but they are included to help you think through the steps."
   ]
  },
  {
   "cell_type": "code",
   "execution_count": null,
   "metadata": {},
   "outputs": [],
   "source": [
    "# 3 observable trends based on the data analysis below\n",
    "    # 1) As shown in the latitude vs. temperature plot, higher latitudes, especially those > 40 degrees are colder than those closer to the equator.\n",
    "    # 2) There does not appear to be any clear relationship between latitude and cloudiness.\n",
    "    # 3) As shown in the latitude vs. wind speed plot, outliers (very high winds) appear more likely to occur at extreme latitudes (far north or far south). However, additional data/sampling is recommended before concluding this is true definitively."
   ]
  },
  {
   "cell_type": "code",
   "execution_count": 111,
   "metadata": {
    "scrolled": true
   },
   "outputs": [],
   "source": [
    "# Code below in this cell provided as starter code\n",
    "# Dependencies and Setup\n",
    "import matplotlib.pyplot as plt\n",
    "import pandas as pd\n",
    "import numpy as np\n",
    "import requests\n",
    "import time\n",
    "from scipy.stats import linregress\n",
    "import json\n",
    "import csv\n",
    "import os\n",
    "\n",
    "# Import API key\n",
    "from api_keys import weather_api_key\n",
    "\n",
    "# Incorporated citipy to determine city based on latitude and longitude\n",
    "from citipy import citipy\n",
    "\n",
    "# Output File (CSV)\n",
    "output_data_file = \"output_data/cities.csv\"\n",
    "\n",
    "# Range of latitudes and longitudes\n",
    "lat_range = (-90, 90)\n",
    "lng_range = (-180, 180)"
   ]
  },
  {
   "cell_type": "markdown",
   "metadata": {},
   "source": [
    "## Generate Cities List"
   ]
  },
  {
   "cell_type": "code",
   "execution_count": 112,
   "metadata": {},
   "outputs": [
    {
     "data": {
      "text/plain": [
       "592"
      ]
     },
     "execution_count": 112,
     "metadata": {},
     "output_type": "execute_result"
    }
   ],
   "source": [
    "# Code below in this cell provided as starter code\n",
    "# List for holding lat_lngs and cities\n",
    "lat_lngs = []\n",
    "cities = []\n",
    "\n",
    "# Create a set of random lat and lng combinations\n",
    "lats = np.random.uniform(lat_range[0], lat_range[1], size=1500)\n",
    "lngs = np.random.uniform(lng_range[0], lng_range[1], size=1500)\n",
    "lat_lngs = zip(lats, lngs)\n",
    "\n",
    "# Identify nearest city for each lat, lng combination\n",
    "for lat_lng in lat_lngs:\n",
    "    city = citipy.nearest_city(lat_lng[0], lat_lng[1]).city_name\n",
    "    \n",
    "    # If the city is unique, then add it to a our cities list\n",
    "    if city not in cities:\n",
    "        cities.append(city)\n",
    "\n",
    "# Print the city count to confirm sufficient count\n",
    "len(cities)"
   ]
  },
  {
   "cell_type": "markdown",
   "metadata": {},
   "source": [
    "### Perform API Calls\n",
    "* Perform a weather check on each city using a series of successive API calls.\n",
    "* Include a print log of each city as it'sbeing processed (with the city number and city name).\n"
   ]
  },
  {
   "cell_type": "code",
   "execution_count": 113,
   "metadata": {
    "scrolled": true
   },
   "outputs": [
    {
     "name": "stdout",
     "output_type": "stream",
     "text": [
      "---------------\n",
      "Beginning Data Retrieval\n",
      "---------------\n",
      "Processing Record 0 | sumenep\n",
      "Processing Record 1 | kavieng\n",
      "Processing Record 2 | east london\n",
      "Processing Record 3 | aksarka\n",
      "Processing Record 4 | atuona\n",
      "Processing Record 5 | kletskaya\n",
      "Processing Record 6 | mengcheng\n",
      "Processing Record 7 | rangia\n",
      "City Not Found\n",
      "City Not Found\n",
      "Processing Record 8 | borogontsy\n",
      "Processing Record 9 | avarua\n",
      "Processing Record 10 | busselton\n",
      "Processing Record 11 | severo-kurilsk\n",
      "Processing Record 12 | hermanus\n",
      "Processing Record 13 | faya\n",
      "Processing Record 14 | yellowknife\n",
      "Processing Record 15 | ahuimanu\n",
      "Processing Record 16 | kruisfontein\n",
      "Processing Record 17 | mizdah\n",
      "Processing Record 18 | albany\n",
      "Processing Record 19 | vaini\n",
      "Processing Record 20 | new norfolk\n",
      "Processing Record 21 | ulkan\n",
      "Processing Record 22 | fare\n",
      "Processing Record 23 | ancud\n",
      "Processing Record 24 | punta arenas\n",
      "Processing Record 25 | lebu\n",
      "Processing Record 26 | cape town\n",
      "Processing Record 27 | rikitea\n",
      "Processing Record 28 | makakilo city\n",
      "Processing Record 29 | pevek\n",
      "Processing Record 30 | longyearbyen\n",
      "Processing Record 31 | burnie\n",
      "Processing Record 32 | provideniya\n",
      "Processing Record 33 | upernavik\n",
      "Processing Record 34 | san jose\n",
      "Processing Record 35 | arrifes\n",
      "Processing Record 36 | ushuaia\n",
      "Processing Record 37 | namibe\n",
      "City Not Found\n",
      "Processing Record 38 | padang\n",
      "Processing Record 39 | baneh\n",
      "Processing Record 40 | opuwo\n",
      "Processing Record 41 | la baule-escoublac\n",
      "Processing Record 42 | mahebourg\n",
      "Processing Record 43 | porto santo\n",
      "Processing Record 44 | massa marittima\n",
      "Processing Record 45 | aranos\n",
      "Processing Record 46 | eureka\n",
      "Processing Record 47 | santa cruz\n",
      "Processing Record 48 | coihaique\n",
      "Processing Record 49 | lahat\n",
      "Processing Record 50 | roma\n",
      "Processing Record 51 | kapaa\n",
      "Processing Record 52 | kalasin\n",
      "Processing Record 53 | nirgua\n",
      "City Not Found\n",
      "Processing Record 54 | nichinan\n",
      "Processing Record 55 | constitucion\n",
      "Processing Record 56 | dhrangadhra\n",
      "Processing Record 57 | port alfred\n",
      "Processing Record 58 | fortuna foothills\n",
      "Processing Record 59 | mar del plata\n",
      "Processing Record 60 | lompoc\n",
      "City Not Found\n",
      "Processing Record 61 | peniche\n",
      "Processing Record 62 | kenitra\n",
      "Processing Record 63 | hithadhoo\n",
      "Processing Record 64 | havre\n",
      "Processing Record 65 | jamestown\n",
      "Processing Record 66 | black forest\n",
      "Processing Record 67 | thompson\n",
      "Processing Record 68 | yanam\n",
      "Processing Record 69 | puerto ayora\n",
      "Processing Record 70 | boddam\n",
      "Processing Record 71 | lhokseumawe\n",
      "Processing Record 72 | ponta do sol\n",
      "Processing Record 73 | muli\n",
      "Processing Record 74 | chapais\n",
      "Processing Record 75 | oranjemund\n",
      "Processing Record 76 | mogadishu\n",
      "Processing Record 77 | honningsvag\n",
      "Processing Record 78 | mataura\n",
      "Processing Record 79 | saint-philippe\n",
      "Processing Record 80 | port hardy\n",
      "Processing Record 81 | westport\n",
      "Processing Record 82 | georgetown\n",
      "Processing Record 83 | geneva\n",
      "Processing Record 84 | ribeira grande\n",
      "City Not Found\n",
      "Processing Record 85 | bluff\n",
      "Processing Record 86 | biak\n",
      "Processing Record 87 | kodiak\n",
      "City Not Found\n",
      "Processing Record 88 | sorong\n",
      "City Not Found\n",
      "Processing Record 89 | zhigansk\n",
      "Processing Record 90 | touros\n",
      "Processing Record 91 | dikson\n",
      "Processing Record 92 | sangar\n",
      "Processing Record 93 | hobart\n",
      "Processing Record 94 | ucluelet\n",
      "Processing Record 95 | hambantota\n",
      "Processing Record 96 | nikolskoye\n",
      "Processing Record 97 | hasaki\n",
      "Processing Record 98 | arraial do cabo\n",
      "City Not Found\n",
      "Processing Record 99 | pitkyaranta\n",
      "Processing Record 100 | chuy\n",
      "City Not Found\n",
      "Processing Record 101 | srednekolymsk\n",
      "City Not Found\n",
      "Processing Record 102 | olafsvik\n",
      "Processing Record 103 | belinskiy\n",
      "Processing Record 104 | venado tuerto\n",
      "Processing Record 105 | cabo san lucas\n",
      "Processing Record 106 | tuatapere\n",
      "Processing Record 107 | kenora\n",
      "Processing Record 108 | bilma\n",
      "Processing Record 109 | clyde river\n",
      "Processing Record 110 | barrow\n",
      "Processing Record 111 | dennery\n",
      "Processing Record 112 | saint-pierre\n",
      "Processing Record 113 | kiunga\n",
      "Processing Record 114 | tiksi\n",
      "Processing Record 115 | partizanskoye\n",
      "Processing Record 116 | fort nelson\n",
      "Processing Record 117 | bredasdorp\n",
      "Processing Record 118 | mirandela\n",
      "Processing Record 119 | guasdualito\n",
      "Processing Record 120 | huntington\n",
      "Processing Record 121 | castro\n",
      "Processing Record 122 | chicama\n",
      "Processing Record 123 | port elizabeth\n",
      "Processing Record 124 | caravelas\n",
      "City Not Found\n",
      "City Not Found\n",
      "City Not Found\n",
      "Processing Record 125 | khatanga\n",
      "Processing Record 126 | sur\n",
      "Processing Record 127 | mecca\n",
      "Processing Record 128 | ayagoz\n",
      "Processing Record 129 | bathsheba\n",
      "Processing Record 130 | phuket\n",
      "Processing Record 131 | qaanaaq\n",
      "Processing Record 132 | pisco\n",
      "Processing Record 133 | grandview\n",
      "Processing Record 134 | zhezkazgan\n",
      "Processing Record 135 | cabedelo\n",
      "Processing Record 136 | nova russas\n",
      "Processing Record 137 | catamarca\n",
      "Processing Record 138 | axim\n",
      "Processing Record 139 | mahibadhoo\n",
      "Processing Record 140 | kaili\n",
      "City Not Found\n",
      "Processing Record 141 | goya\n",
      "Processing Record 142 | grand gaube\n",
      "Processing Record 143 | flin flon\n",
      "Processing Record 144 | blagoyevo\n",
      "Processing Record 145 | airai\n",
      "Processing Record 146 | hamilton\n",
      "Processing Record 147 | ixtapa\n",
      "Processing Record 148 | camopi\n",
      "Processing Record 149 | ostrovnoy\n",
      "Processing Record 150 | saldanha\n",
      "Processing Record 151 | laguna\n",
      "Processing Record 152 | yabassi\n",
      "Processing Record 153 | deputatskiy\n",
      "Processing Record 154 | saint-francois\n",
      "Processing Record 155 | bulungu\n",
      "Processing Record 156 | sembe\n",
      "City Not Found\n",
      "Processing Record 157 | bonthe\n",
      "Processing Record 158 | urucara\n",
      "Processing Record 159 | wellin\n",
      "Processing Record 160 | bojnurd\n",
      "Processing Record 161 | narsaq\n",
      "Processing Record 162 | naze\n",
      "Processing Record 163 | sakaiminato\n",
      "Processing Record 164 | bonito\n",
      "Processing Record 165 | turukhansk\n",
      "Processing Record 166 | bardiyah\n",
      "Processing Record 167 | meridian\n",
      "Processing Record 168 | khokhryaki\n",
      "Processing Record 169 | avera\n",
      "Processing Record 170 | isoka\n",
      "Processing Record 171 | basdiot\n",
      "City Not Found\n",
      "Processing Record 172 | yulara\n",
      "Processing Record 173 | cidreira\n",
      "Processing Record 174 | abha\n",
      "Processing Record 175 | rocha\n",
      "Processing Record 176 | morondava\n",
      "Processing Record 177 | bambanglipuro\n",
      "Processing Record 178 | waipawa\n",
      "Processing Record 179 | portland\n",
      "City Not Found\n",
      "Processing Record 180 | shimoda\n",
      "Processing Record 181 | hilo\n",
      "Processing Record 182 | phan thiet\n",
      "Processing Record 183 | mariinsk\n",
      "Processing Record 184 | torbay\n",
      "Processing Record 185 | guerrero negro\n",
      "Processing Record 186 | tasiilaq\n",
      "Processing Record 187 | huancavelica\n",
      "Processing Record 188 | shenzhen\n",
      "City Not Found\n",
      "Processing Record 189 | ketchikan\n",
      "Processing Record 190 | reyes\n",
      "Processing Record 191 | barcelos\n",
      "Processing Record 192 | muros\n",
      "Processing Record 193 | katsuura\n",
      "City Not Found\n",
      "Processing Record 194 | pucallpa\n",
      "Processing Record 195 | la ronge\n",
      "Processing Record 196 | jalu\n",
      "Processing Record 197 | nanortalik\n",
      "Processing Record 198 | pandan\n",
      "Processing Record 199 | sisimiut\n",
      "Processing Record 200 | biltine\n",
      "Processing Record 201 | jimma\n",
      "Processing Record 202 | gladstone\n",
      "Processing Record 203 | acapulco\n",
      "Processing Record 204 | sydney mines\n",
      "Processing Record 205 | point pleasant\n",
      "Processing Record 206 | carnarvon\n",
      "Processing Record 207 | bridlington\n",
      "Processing Record 208 | comodoro rivadavia\n",
      "Processing Record 209 | mao\n",
      "City Not Found\n",
      "Processing Record 210 | senneterre\n",
      "Processing Record 211 | nyrob\n",
      "Processing Record 212 | poum\n",
      "Processing Record 213 | cortes\n",
      "Processing Record 214 | saskylakh\n",
      "Processing Record 215 | klaksvik\n",
      "Processing Record 216 | jizan\n",
      "Processing Record 217 | sitka\n",
      "Processing Record 218 | terrace bay\n",
      "Processing Record 219 | fortuna\n",
      "Processing Record 220 | nouadhibou\n",
      "Processing Record 221 | lazaro cardenas\n",
      "Processing Record 222 | taoudenni\n",
      "Processing Record 223 | marmora\n",
      "Processing Record 224 | mackenzie\n",
      "Processing Record 225 | chokurdakh\n",
      "Processing Record 226 | tuktoyaktuk\n",
      "Processing Record 227 | zhuhai\n",
      "Processing Record 228 | grand-santi\n",
      "Processing Record 229 | kieta\n",
      "Processing Record 230 | rio gallegos\n",
      "Processing Record 231 | port shepstone\n",
      "Processing Record 232 | puerto escondido\n",
      "Processing Record 233 | nyurba\n",
      "Processing Record 234 | san isidro\n",
      "Processing Record 235 | saint pete beach\n",
      "Processing Record 236 | houma\n",
      "Processing Record 237 | vila franca do campo\n"
     ]
    },
    {
     "name": "stdout",
     "output_type": "stream",
     "text": [
      "Processing Record 238 | bengkulu\n",
      "City Not Found\n",
      "Processing Record 239 | kunya\n",
      "Processing Record 240 | alofi\n",
      "Processing Record 241 | dunedin\n",
      "Processing Record 242 | sao filipe\n",
      "Processing Record 243 | hay river\n",
      "Processing Record 244 | ahipara\n",
      "Processing Record 245 | bissora\n",
      "Processing Record 246 | birao\n",
      "Processing Record 247 | saint-ambroise\n",
      "Processing Record 248 | cam ranh\n",
      "Processing Record 249 | mount isa\n",
      "Processing Record 250 | baherden\n",
      "Processing Record 251 | port blair\n",
      "Processing Record 252 | marsa matruh\n",
      "Processing Record 253 | sterling\n",
      "Processing Record 254 | lardos\n",
      "Processing Record 255 | williston\n",
      "City Not Found\n",
      "Processing Record 256 | victoria\n",
      "Processing Record 257 | tessalit\n",
      "Processing Record 258 | cruzeiro do sul\n",
      "Processing Record 259 | bacalar\n",
      "Processing Record 260 | lorengau\n",
      "Processing Record 261 | leningradskiy\n",
      "City Not Found\n",
      "Processing Record 262 | shingu\n",
      "Processing Record 263 | atasu\n",
      "Processing Record 264 | butaritari\n",
      "Processing Record 265 | holme\n",
      "Processing Record 266 | pullman\n",
      "Processing Record 267 | labelle\n",
      "Processing Record 268 | wellington\n",
      "Processing Record 269 | bismarck\n",
      "Processing Record 270 | aklavik\n",
      "Processing Record 271 | aksu\n",
      "Processing Record 272 | bafq\n",
      "Processing Record 273 | irituia\n",
      "Processing Record 274 | jasper\n",
      "Processing Record 275 | kalmunai\n",
      "Processing Record 276 | kempele\n",
      "Processing Record 277 | college\n",
      "Processing Record 278 | uyemskiy\n",
      "City Not Found\n",
      "Processing Record 279 | victor harbor\n",
      "Processing Record 280 | bud\n",
      "Processing Record 281 | mackay\n",
      "Processing Record 282 | bubaque\n",
      "Processing Record 283 | kifri\n",
      "Processing Record 284 | norman wells\n",
      "Processing Record 285 | fenoarivo\n",
      "Processing Record 286 | viedma\n",
      "City Not Found\n",
      "Processing Record 287 | raudeberg\n",
      "Processing Record 288 | tilichiki\n",
      "Processing Record 289 | broken hill\n",
      "City Not Found\n",
      "Processing Record 290 | mangaratiba\n",
      "Processing Record 291 | morecambe\n",
      "Processing Record 292 | templin\n",
      "Processing Record 293 | souillac\n",
      "City Not Found\n",
      "Processing Record 294 | entre rios\n",
      "Processing Record 295 | abalak\n",
      "Processing Record 296 | broome\n",
      "City Not Found\n",
      "Processing Record 297 | zhangye\n",
      "Processing Record 298 | emerald\n",
      "Processing Record 299 | sorland\n",
      "City Not Found\n",
      "Processing Record 300 | iqaluit\n",
      "Processing Record 301 | itoman\n",
      "Processing Record 302 | road town\n",
      "Processing Record 303 | alice springs\n",
      "Processing Record 304 | mazagao\n",
      "Processing Record 305 | lamu\n",
      "Processing Record 306 | khor\n",
      "Processing Record 307 | bethel\n",
      "Processing Record 308 | pangnirtung\n",
      "Processing Record 309 | panjab\n",
      "Processing Record 310 | digora\n",
      "Processing Record 311 | praia\n",
      "Processing Record 312 | shenkursk\n",
      "Processing Record 313 | balikpapan\n",
      "Processing Record 314 | salalah\n",
      "Processing Record 315 | havre-saint-pierre\n",
      "City Not Found\n",
      "Processing Record 316 | back mountain\n",
      "Processing Record 317 | banjar\n",
      "Processing Record 318 | mokokchung\n",
      "Processing Record 319 | hualmay\n",
      "Processing Record 320 | mount gambier\n",
      "Processing Record 321 | ilorin\n",
      "Processing Record 322 | terralba\n",
      "Processing Record 323 | machacamarca\n",
      "Processing Record 324 | pula\n",
      "Processing Record 325 | boyolangu\n",
      "Processing Record 326 | pine bluff\n",
      "Processing Record 327 | tapioszentmarton\n",
      "Processing Record 328 | gat\n",
      "Processing Record 329 | santa marta\n",
      "Processing Record 330 | sambava\n",
      "Processing Record 331 | beringovskiy\n",
      "Processing Record 332 | hamina\n",
      "Processing Record 333 | saint george\n",
      "Processing Record 334 | arman\n",
      "City Not Found\n",
      "Processing Record 335 | berlevag\n",
      "Processing Record 336 | havoysund\n",
      "Processing Record 337 | maniitsoq\n",
      "Processing Record 338 | orlik\n",
      "City Not Found\n",
      "Processing Record 339 | mandalgovi\n",
      "Processing Record 340 | muzhi\n",
      "Processing Record 341 | nordfjordeid\n",
      "Processing Record 342 | tema\n",
      "Processing Record 343 | bon air\n",
      "Processing Record 344 | santiago\n",
      "Processing Record 345 | ous\n",
      "City Not Found\n",
      "City Not Found\n",
      "Processing Record 346 | luderitz\n",
      "Processing Record 347 | kununurra\n",
      "Processing Record 348 | acari\n",
      "Processing Record 349 | camacha\n",
      "City Not Found\n",
      "Processing Record 350 | snyder\n",
      "Processing Record 351 | port lincoln\n",
      "Processing Record 352 | jaumave\n",
      "City Not Found\n",
      "Processing Record 353 | ambon\n",
      "Processing Record 354 | lagoa\n",
      "Processing Record 355 | port angeles\n",
      "City Not Found\n",
      "Processing Record 356 | aswan\n",
      "Processing Record 357 | ola\n",
      "Processing Record 358 | baykit\n",
      "Processing Record 359 | freeport\n",
      "Processing Record 360 | avondale\n",
      "Processing Record 361 | anage\n",
      "Processing Record 362 | george town\n",
      "Processing Record 363 | masuguru\n",
      "Processing Record 364 | riberalta\n",
      "Processing Record 365 | murray bridge\n",
      "Processing Record 366 | shieli\n",
      "Processing Record 367 | kavaratti\n",
      "Processing Record 368 | rio cuarto\n",
      "Processing Record 369 | fairbanks\n",
      "Processing Record 370 | mala\n",
      "Processing Record 371 | vardo\n",
      "Processing Record 372 | kaitangata\n",
      "Processing Record 373 | eyl\n",
      "Processing Record 374 | adre\n",
      "Processing Record 375 | vestmannaeyjar\n",
      "City Not Found\n",
      "Processing Record 376 | sao joao da barra\n",
      "Processing Record 377 | samarai\n",
      "Processing Record 378 | tarakan\n",
      "City Not Found\n",
      "Processing Record 379 | gizo\n",
      "Processing Record 380 | sinnamary\n",
      "Processing Record 381 | plouzane\n",
      "Processing Record 382 | ukiah\n",
      "Processing Record 383 | svetlogorsk\n",
      "Processing Record 384 | klaeng\n",
      "Processing Record 385 | ambulu\n",
      "Processing Record 386 | kirakira\n",
      "Processing Record 387 | santa lucia\n",
      "Processing Record 388 | shadrinsk\n",
      "City Not Found\n",
      "Processing Record 389 | esperance\n",
      "Processing Record 390 | rawson\n",
      "Processing Record 391 | nizhniy tagil\n",
      "Processing Record 392 | camocim\n",
      "Processing Record 393 | hofn\n",
      "Processing Record 394 | general roca\n",
      "Processing Record 395 | khani\n",
      "Processing Record 396 | esil\n",
      "Processing Record 397 | shelburne\n",
      "City Not Found\n",
      "Processing Record 398 | dharchula\n",
      "City Not Found\n",
      "Processing Record 399 | carutapera\n",
      "Processing Record 400 | klyuchi\n",
      "Processing Record 401 | vesyegonsk\n",
      "Processing Record 402 | kurchum\n",
      "Processing Record 403 | robertsport\n",
      "Processing Record 404 | irtyshskiy\n",
      "Processing Record 405 | port hedland\n",
      "Processing Record 406 | salamiyah\n",
      "Processing Record 407 | cannington\n",
      "Processing Record 408 | ilulissat\n",
      "Processing Record 409 | siderno\n",
      "Processing Record 410 | coahuayana\n",
      "Processing Record 411 | juba\n",
      "Processing Record 412 | vostok\n",
      "Processing Record 413 | uray\n",
      "Processing Record 414 | marawi\n",
      "Processing Record 415 | anadyr\n",
      "Processing Record 416 | kodinsk\n",
      "Processing Record 417 | tolaga bay\n",
      "Processing Record 418 | denpasar\n",
      "City Not Found\n",
      "Processing Record 419 | korop\n",
      "City Not Found\n",
      "Processing Record 420 | bariadi\n",
      "Processing Record 421 | port macquarie\n",
      "Processing Record 422 | cayenne\n",
      "Processing Record 423 | avallon\n",
      "City Not Found\n",
      "Processing Record 424 | necochea\n",
      "Processing Record 425 | coron\n",
      "Processing Record 426 | farafangana\n",
      "Processing Record 427 | gisborne\n",
      "Processing Record 428 | bambous virieux\n",
      "Processing Record 429 | otradnoye\n",
      "Processing Record 430 | taksimo\n",
      "Processing Record 431 | lata\n",
      "Processing Record 432 | cockburn town\n",
      "Processing Record 433 | dickinson\n",
      "Processing Record 434 | gazimurskiy zavod\n",
      "Processing Record 435 | bumbuna\n",
      "Processing Record 436 | sukumo\n",
      "Processing Record 437 | rojhan\n",
      "Processing Record 438 | evensk\n",
      "Processing Record 439 | kijang\n",
      "Processing Record 440 | sumbe\n",
      "Processing Record 441 | caramay\n",
      "Processing Record 442 | matara\n",
      "Processing Record 443 | codrington\n",
      "Processing Record 444 | geraldton\n",
      "Processing Record 445 | mahuva\n",
      "Processing Record 446 | belmonte\n",
      "Processing Record 447 | nome\n",
      "Processing Record 448 | tungor\n",
      "Processing Record 449 | nijar\n",
      "Processing Record 450 | marathon\n",
      "Processing Record 451 | rio brilhante\n",
      "City Not Found\n",
      "Processing Record 452 | copiapo\n",
      "Processing Record 453 | navoi\n",
      "Processing Record 454 | zaysan\n",
      "Processing Record 455 | baringo\n",
      "Processing Record 456 | sadasivpet\n",
      "Processing Record 457 | kalabo\n",
      "Processing Record 458 | tabas\n",
      "City Not Found\n",
      "Processing Record 459 | margate\n",
      "Processing Record 460 | manono\n",
      "Processing Record 461 | terra santa\n",
      "Processing Record 462 | amazar\n",
      "City Not Found\n",
      "Processing Record 463 | puri\n",
      "Processing Record 464 | baiyin\n",
      "City Not Found\n",
      "Processing Record 465 | jiuquan\n",
      "Processing Record 466 | red wing\n",
      "Processing Record 467 | lasa\n",
      "Processing Record 468 | mossendjo\n",
      "Processing Record 469 | vanersborg\n",
      "City Not Found\n",
      "Processing Record 470 | coquimbo\n",
      "Processing Record 471 | krasnorechenskiy\n",
      "Processing Record 472 | meulaboh\n",
      "Processing Record 473 | tarves\n",
      "Processing Record 474 | kaoma\n",
      "Processing Record 475 | sao caetano de odivelas\n"
     ]
    },
    {
     "name": "stdout",
     "output_type": "stream",
     "text": [
      "Processing Record 476 | salinopolis\n",
      "Processing Record 477 | ontario\n",
      "Processing Record 478 | neyshabur\n",
      "Processing Record 479 | valenca\n",
      "Processing Record 480 | mutoko\n",
      "Processing Record 481 | nemuro\n",
      "Processing Record 482 | saint-paul\n",
      "Processing Record 483 | villa carlos paz\n",
      "Processing Record 484 | tigil\n",
      "Processing Record 485 | imst\n",
      "Processing Record 486 | maamba\n",
      "Processing Record 487 | tiarei\n",
      "Processing Record 488 | charyshskoye\n",
      "Processing Record 489 | mapiri\n",
      "Processing Record 490 | kutum\n",
      "City Not Found\n",
      "Processing Record 491 | byron bay\n",
      "Processing Record 492 | tshikapa\n",
      "Processing Record 493 | wyndham\n",
      "Processing Record 494 | gazojak\n",
      "Processing Record 495 | port keats\n",
      "Processing Record 496 | ponta delgada\n",
      "Processing Record 497 | moerai\n",
      "Processing Record 498 | san patricio\n",
      "Processing Record 499 | havelock\n",
      "Processing Record 500 | cuenca\n",
      "Processing Record 501 | dzerzhinsk\n",
      "Processing Record 502 | caluquembe\n",
      "Processing Record 503 | trincomalee\n",
      "Processing Record 504 | buala\n",
      "Processing Record 505 | reading\n",
      "Processing Record 506 | udachnyy\n",
      "Processing Record 507 | acarau\n",
      "Processing Record 508 | buraydah\n",
      "Processing Record 509 | shunyi\n",
      "Processing Record 510 | opunake\n",
      "Processing Record 511 | cherskiy\n",
      "Processing Record 512 | san quintin\n",
      "Processing Record 513 | slave lake\n",
      "Processing Record 514 | palmer\n",
      "Processing Record 515 | egvekinot\n",
      "Processing Record 516 | faanui\n",
      "Processing Record 517 | xichang\n",
      "Processing Record 518 | bogo\n",
      "Processing Record 519 | tshela\n",
      "Processing Record 520 | praia da vitoria\n",
      "Processing Record 521 | bell ville\n",
      "Processing Record 522 | kiruna\n",
      "Processing Record 523 | gamba\n",
      "Processing Record 524 | sioux lookout\n",
      "Processing Record 525 | stettler\n",
      "Processing Record 526 | ibra\n",
      "Processing Record 527 | hobyo\n",
      "Processing Record 528 | katherine\n",
      "Processing Record 529 | urumqi\n",
      "Processing Record 530 | omsukchan\n",
      "Processing Record 531 | carlentini\n",
      "Processing Record 532 | talnakh\n",
      "Processing Record 533 | batagay-alyta\n",
      "Processing Record 534 | vila velha\n",
      "Processing Record 535 | qasigiannguit\n",
      "City Not Found\n",
      "Processing Record 536 | usolye-sibirskoye\n",
      "Processing Record 537 | maryland heights\n",
      "Processing Record 538 | barra patuca\n",
      "---------------\n"
     ]
    }
   ],
   "source": [
    "# Per Weather API documentation, use the URL structure below...\n",
    "# api.openweathermap.org/data/2.5/weather?q={city name}&appid={API key}&units=imperial\n",
    "# ^Need to switch from standard units to imperial as well\n",
    "\n",
    "url = \"http://api.openweathermap.org/data/2.5/weather\"\n",
    "    \n",
    "url_w_units_api = url + \"?units=imperial&appid=\" + weather_api_key \n",
    "\n",
    "# Define lists of weather related data to retieve via calls\n",
    "temp = []\n",
    "city_names = []\n",
    "lat = []\n",
    "long = []\n",
    "cloud = []\n",
    "wind = []\n",
    "humidity = []\n",
    "date = []\n",
    "country = []\n",
    "\n",
    "print(\"---------------\")\n",
    "print(\"Beginning Data Retrieval\")\n",
    "print(\"---------------\")\n",
    "\n",
    "city_counter = 0\n",
    "\n",
    "# Structure query URL based on API documentation\n",
    "for city in cities:\n",
    "    query_url = url_w_units_api + \"&q=\" + city\n",
    "    response = requests.get(query_url)\n",
    "    \n",
    "    # print(query_url)\n",
    "    \n",
    "    # Need to account for handful of city not found 404 errors below in append\n",
    "    if response.status_code != 404:\n",
    "    \n",
    "    # append all lists - looked at example url http://api.openweathermap.org/data/2.5/weather?q=london&appid=ecfdfe218ded7750b5efdda70abe2d18 to structure append mapping\n",
    "        response = response.json()\n",
    "        temp.append(response[\"main\"][\"temp_max\"])\n",
    "        city_names.append(city)\n",
    "        lat.append(response[\"coord\"][\"lat\"])\n",
    "        long.append(response[\"coord\"][\"lon\"])\n",
    "        cloud.append(response[\"clouds\"][\"all\"])\n",
    "        wind.append(response[\"wind\"][\"speed\"])\n",
    "        humidity.append(response[\"main\"][\"humidity\"])\n",
    "        date.append(response[\"dt\"])\n",
    "        country.append(response[\"sys\"][\"country\"])\n",
    "        \n",
    "        print(\"Processing Record \" + str(city_counter) + \" | \" + city)\n",
    "        \n",
    "        city_counter = city_counter + 1\n",
    "        \n",
    "    else: print(\"City Not Found\")\n",
    "                \n",
    "print(\"---------------\")"
   ]
  },
  {
   "cell_type": "markdown",
   "metadata": {},
   "source": [
    "### Convert Raw Data to DataFrame\n",
    "* Export the city data into a .csv.\n",
    "* Display the DataFrame"
   ]
  },
  {
   "cell_type": "code",
   "execution_count": 114,
   "metadata": {},
   "outputs": [
    {
     "data": {
      "text/html": [
       "<div>\n",
       "<style scoped>\n",
       "    .dataframe tbody tr th:only-of-type {\n",
       "        vertical-align: middle;\n",
       "    }\n",
       "\n",
       "    .dataframe tbody tr th {\n",
       "        vertical-align: top;\n",
       "    }\n",
       "\n",
       "    .dataframe thead th {\n",
       "        text-align: right;\n",
       "    }\n",
       "</style>\n",
       "<table border=\"1\" class=\"dataframe\">\n",
       "  <thead>\n",
       "    <tr style=\"text-align: right;\">\n",
       "      <th></th>\n",
       "      <th>City</th>\n",
       "      <th>Lat</th>\n",
       "      <th>Lng</th>\n",
       "      <th>Max Temp</th>\n",
       "      <th>Humidity</th>\n",
       "      <th>Cloudiness</th>\n",
       "      <th>Wind Speed</th>\n",
       "      <th>Country</th>\n",
       "      <th>Date</th>\n",
       "    </tr>\n",
       "  </thead>\n",
       "  <tbody>\n",
       "    <tr>\n",
       "      <th>0</th>\n",
       "      <td>sumenep</td>\n",
       "      <td>-7.02</td>\n",
       "      <td>113.87</td>\n",
       "      <td>76.41</td>\n",
       "      <td>91</td>\n",
       "      <td>100</td>\n",
       "      <td>6.40</td>\n",
       "      <td>ID</td>\n",
       "      <td>1608151038</td>\n",
       "    </tr>\n",
       "    <tr>\n",
       "      <th>1</th>\n",
       "      <td>kavieng</td>\n",
       "      <td>-2.57</td>\n",
       "      <td>150.80</td>\n",
       "      <td>83.50</td>\n",
       "      <td>76</td>\n",
       "      <td>100</td>\n",
       "      <td>8.99</td>\n",
       "      <td>PG</td>\n",
       "      <td>1608151247</td>\n",
       "    </tr>\n",
       "    <tr>\n",
       "      <th>2</th>\n",
       "      <td>east london</td>\n",
       "      <td>-33.02</td>\n",
       "      <td>27.91</td>\n",
       "      <td>68.34</td>\n",
       "      <td>80</td>\n",
       "      <td>0</td>\n",
       "      <td>11.16</td>\n",
       "      <td>ZA</td>\n",
       "      <td>1608151090</td>\n",
       "    </tr>\n",
       "    <tr>\n",
       "      <th>3</th>\n",
       "      <td>aksarka</td>\n",
       "      <td>66.56</td>\n",
       "      <td>67.80</td>\n",
       "      <td>5.00</td>\n",
       "      <td>94</td>\n",
       "      <td>100</td>\n",
       "      <td>14.81</td>\n",
       "      <td>RU</td>\n",
       "      <td>1608151247</td>\n",
       "    </tr>\n",
       "    <tr>\n",
       "      <th>4</th>\n",
       "      <td>atuona</td>\n",
       "      <td>-9.80</td>\n",
       "      <td>-139.03</td>\n",
       "      <td>78.89</td>\n",
       "      <td>78</td>\n",
       "      <td>1</td>\n",
       "      <td>18.23</td>\n",
       "      <td>PF</td>\n",
       "      <td>1608151248</td>\n",
       "    </tr>\n",
       "    <tr>\n",
       "      <th>5</th>\n",
       "      <td>kletskaya</td>\n",
       "      <td>49.31</td>\n",
       "      <td>43.06</td>\n",
       "      <td>23.00</td>\n",
       "      <td>85</td>\n",
       "      <td>1</td>\n",
       "      <td>1.99</td>\n",
       "      <td>RU</td>\n",
       "      <td>1608151248</td>\n",
       "    </tr>\n",
       "    <tr>\n",
       "      <th>6</th>\n",
       "      <td>mengcheng</td>\n",
       "      <td>33.26</td>\n",
       "      <td>116.57</td>\n",
       "      <td>29.88</td>\n",
       "      <td>80</td>\n",
       "      <td>14</td>\n",
       "      <td>3.87</td>\n",
       "      <td>CN</td>\n",
       "      <td>1608151248</td>\n",
       "    </tr>\n",
       "    <tr>\n",
       "      <th>7</th>\n",
       "      <td>rangia</td>\n",
       "      <td>26.47</td>\n",
       "      <td>91.63</td>\n",
       "      <td>62.01</td>\n",
       "      <td>74</td>\n",
       "      <td>13</td>\n",
       "      <td>2.59</td>\n",
       "      <td>IN</td>\n",
       "      <td>1608151248</td>\n",
       "    </tr>\n",
       "    <tr>\n",
       "      <th>8</th>\n",
       "      <td>borogontsy</td>\n",
       "      <td>62.67</td>\n",
       "      <td>131.17</td>\n",
       "      <td>-45.35</td>\n",
       "      <td>78</td>\n",
       "      <td>69</td>\n",
       "      <td>1.39</td>\n",
       "      <td>RU</td>\n",
       "      <td>1608151248</td>\n",
       "    </tr>\n",
       "    <tr>\n",
       "      <th>9</th>\n",
       "      <td>avarua</td>\n",
       "      <td>-21.21</td>\n",
       "      <td>-159.78</td>\n",
       "      <td>82.40</td>\n",
       "      <td>83</td>\n",
       "      <td>100</td>\n",
       "      <td>17.22</td>\n",
       "      <td>CK</td>\n",
       "      <td>1608151248</td>\n",
       "    </tr>\n",
       "  </tbody>\n",
       "</table>\n",
       "</div>"
      ],
      "text/plain": [
       "          City    Lat     Lng  Max Temp  Humidity  Cloudiness  Wind Speed  \\\n",
       "0      sumenep  -7.02  113.87     76.41        91         100        6.40   \n",
       "1      kavieng  -2.57  150.80     83.50        76         100        8.99   \n",
       "2  east london -33.02   27.91     68.34        80           0       11.16   \n",
       "3      aksarka  66.56   67.80      5.00        94         100       14.81   \n",
       "4       atuona  -9.80 -139.03     78.89        78           1       18.23   \n",
       "5    kletskaya  49.31   43.06     23.00        85           1        1.99   \n",
       "6    mengcheng  33.26  116.57     29.88        80          14        3.87   \n",
       "7       rangia  26.47   91.63     62.01        74          13        2.59   \n",
       "8   borogontsy  62.67  131.17    -45.35        78          69        1.39   \n",
       "9       avarua -21.21 -159.78     82.40        83         100       17.22   \n",
       "\n",
       "  Country        Date  \n",
       "0      ID  1608151038  \n",
       "1      PG  1608151247  \n",
       "2      ZA  1608151090  \n",
       "3      RU  1608151247  \n",
       "4      PF  1608151248  \n",
       "5      RU  1608151248  \n",
       "6      CN  1608151248  \n",
       "7      IN  1608151248  \n",
       "8      RU  1608151248  \n",
       "9      CK  1608151248  "
      ]
     },
     "execution_count": 114,
     "metadata": {},
     "output_type": "execute_result"
    }
   ],
   "source": [
    "# Put the data into a dataframe\n",
    "weather_df = pd.DataFrame({\"City\": city_names, \"Lat\": lat, \"Lng\": long, \"Max Temp\": temp, \"Humidity\": humidity, \"Cloudiness\": cloud, \"Wind Speed\": wind, \"Country\": country, \"Date\": date})\n",
    "weather_df.head(10)"
   ]
  },
  {
   "cell_type": "code",
   "execution_count": 115,
   "metadata": {},
   "outputs": [],
   "source": [
    "# Write to csv\n",
    "weather_df.to_csv(\"cities.csv\", index=False, header=True)"
   ]
  },
  {
   "cell_type": "code",
   "execution_count": 116,
   "metadata": {},
   "outputs": [
    {
     "data": {
      "text/html": [
       "<div>\n",
       "<style scoped>\n",
       "    .dataframe tbody tr th:only-of-type {\n",
       "        vertical-align: middle;\n",
       "    }\n",
       "\n",
       "    .dataframe tbody tr th {\n",
       "        vertical-align: top;\n",
       "    }\n",
       "\n",
       "    .dataframe thead th {\n",
       "        text-align: right;\n",
       "    }\n",
       "</style>\n",
       "<table border=\"1\" class=\"dataframe\">\n",
       "  <thead>\n",
       "    <tr style=\"text-align: right;\">\n",
       "      <th></th>\n",
       "      <th>Lat</th>\n",
       "      <th>Lng</th>\n",
       "      <th>Max Temp</th>\n",
       "      <th>Humidity</th>\n",
       "      <th>Cloudiness</th>\n",
       "      <th>Wind Speed</th>\n",
       "      <th>Date</th>\n",
       "    </tr>\n",
       "  </thead>\n",
       "  <tbody>\n",
       "    <tr>\n",
       "      <th>count</th>\n",
       "      <td>539.00000</td>\n",
       "      <td>539.000000</td>\n",
       "      <td>539.000000</td>\n",
       "      <td>539.000000</td>\n",
       "      <td>539.000000</td>\n",
       "      <td>539.000000</td>\n",
       "      <td>5.390000e+02</td>\n",
       "    </tr>\n",
       "    <tr>\n",
       "      <th>mean</th>\n",
       "      <td>20.00295</td>\n",
       "      <td>14.669091</td>\n",
       "      <td>50.446735</td>\n",
       "      <td>74.755102</td>\n",
       "      <td>57.580705</td>\n",
       "      <td>8.693748</td>\n",
       "      <td>1.608151e+09</td>\n",
       "    </tr>\n",
       "    <tr>\n",
       "      <th>std</th>\n",
       "      <td>33.92425</td>\n",
       "      <td>90.833797</td>\n",
       "      <td>30.460547</td>\n",
       "      <td>19.505870</td>\n",
       "      <td>39.132585</td>\n",
       "      <td>6.184981</td>\n",
       "      <td>7.326249e+01</td>\n",
       "    </tr>\n",
       "    <tr>\n",
       "      <th>min</th>\n",
       "      <td>-54.80000</td>\n",
       "      <td>-179.170000</td>\n",
       "      <td>-45.350000</td>\n",
       "      <td>1.000000</td>\n",
       "      <td>0.000000</td>\n",
       "      <td>0.070000</td>\n",
       "      <td>1.608151e+09</td>\n",
       "    </tr>\n",
       "    <tr>\n",
       "      <th>25%</th>\n",
       "      <td>-8.27000</td>\n",
       "      <td>-65.945000</td>\n",
       "      <td>30.955000</td>\n",
       "      <td>69.000000</td>\n",
       "      <td>20.000000</td>\n",
       "      <td>3.955000</td>\n",
       "      <td>1.608151e+09</td>\n",
       "    </tr>\n",
       "    <tr>\n",
       "      <th>50%</th>\n",
       "      <td>26.12000</td>\n",
       "      <td>16.430000</td>\n",
       "      <td>59.040000</td>\n",
       "      <td>80.000000</td>\n",
       "      <td>75.000000</td>\n",
       "      <td>7.470000</td>\n",
       "      <td>1.608151e+09</td>\n",
       "    </tr>\n",
       "    <tr>\n",
       "      <th>75%</th>\n",
       "      <td>48.26500</td>\n",
       "      <td>95.330000</td>\n",
       "      <td>76.305000</td>\n",
       "      <td>88.000000</td>\n",
       "      <td>95.000000</td>\n",
       "      <td>11.410000</td>\n",
       "      <td>1.608151e+09</td>\n",
       "    </tr>\n",
       "    <tr>\n",
       "      <th>max</th>\n",
       "      <td>78.22000</td>\n",
       "      <td>179.320000</td>\n",
       "      <td>93.600000</td>\n",
       "      <td>100.000000</td>\n",
       "      <td>100.000000</td>\n",
       "      <td>40.260000</td>\n",
       "      <td>1.608151e+09</td>\n",
       "    </tr>\n",
       "  </tbody>\n",
       "</table>\n",
       "</div>"
      ],
      "text/plain": [
       "             Lat         Lng    Max Temp    Humidity  Cloudiness  Wind Speed  \\\n",
       "count  539.00000  539.000000  539.000000  539.000000  539.000000  539.000000   \n",
       "mean    20.00295   14.669091   50.446735   74.755102   57.580705    8.693748   \n",
       "std     33.92425   90.833797   30.460547   19.505870   39.132585    6.184981   \n",
       "min    -54.80000 -179.170000  -45.350000    1.000000    0.000000    0.070000   \n",
       "25%     -8.27000  -65.945000   30.955000   69.000000   20.000000    3.955000   \n",
       "50%     26.12000   16.430000   59.040000   80.000000   75.000000    7.470000   \n",
       "75%     48.26500   95.330000   76.305000   88.000000   95.000000   11.410000   \n",
       "max     78.22000  179.320000   93.600000  100.000000  100.000000   40.260000   \n",
       "\n",
       "               Date  \n",
       "count  5.390000e+02  \n",
       "mean   1.608151e+09  \n",
       "std    7.326249e+01  \n",
       "min    1.608151e+09  \n",
       "25%    1.608151e+09  \n",
       "50%    1.608151e+09  \n",
       "75%    1.608151e+09  \n",
       "max    1.608151e+09  "
      ]
     },
     "execution_count": 116,
     "metadata": {},
     "output_type": "execute_result"
    }
   ],
   "source": [
    "# Use describe to summarize the stats below\n",
    "weather_df_stats = weather_df[[\"Lat\", \"Lng\", \"Max Temp\", \"Humidity\", \"Cloudiness\", \"Wind Speed\", \"Date\"]].describe()\n",
    "weather_df_stats"
   ]
  },
  {
   "cell_type": "markdown",
   "metadata": {},
   "source": [
    "## Inspect the data and remove the cities where the humidity > 100%.\n",
    "----\n",
    "Skip this step if there are no cities that have humidity > 100%. "
   ]
  },
  {
   "cell_type": "code",
   "execution_count": 117,
   "metadata": {},
   "outputs": [],
   "source": [
    "# max is 100, so skip"
   ]
  },
  {
   "cell_type": "code",
   "execution_count": 118,
   "metadata": {},
   "outputs": [],
   "source": [
    "#  Get the indices of cities that have humidity over 100%.\n",
    "# none over 100%, so skip"
   ]
  },
  {
   "cell_type": "code",
   "execution_count": 119,
   "metadata": {},
   "outputs": [],
   "source": [
    "# Make a new DataFrame equal to the city data to drop all humidity outliers by index.\n",
    "# Passing \"inplace=False\" will make a copy of the city_data DataFrame, which we call \"clean_city_data\".\n",
    "\n",
    "# none over 100%, so skip"
   ]
  },
  {
   "cell_type": "markdown",
   "metadata": {},
   "source": [
    "## Plotting the Data\n",
    "* Use proper labeling of the plots using plot titles (including date of analysis) and axes labels.\n",
    "* Save the plotted figures as .pngs."
   ]
  },
  {
   "cell_type": "markdown",
   "metadata": {},
   "source": [
    "## Latitude vs. Temperature Plot"
   ]
  },
  {
   "cell_type": "code",
   "execution_count": 120,
   "metadata": {
    "scrolled": true
   },
   "outputs": [
    {
     "data": {
      "image/png": "[encoded data removed]",
      "text/plain": [
       "<Figure size 432x288 with 1 Axes>"
      ]
     },
     "metadata": {
      "needs_background": "light"
     },
     "output_type": "display_data"
    }
   ],
   "source": [
    "weather_df.plot(kind = \"scatter\", x = \"Lat\", y = \"Max Temp\", c = \"Blue\")\n",
    "\n",
    "# formatting, titles, etc.\n",
    "plt.grid()\n",
    "plt.xlabel(\"Latitude\")\n",
    "plt.ylabel(\"Max Temperature (F)\")\n",
    "plt.title(\"City Latitude vs. Max Temperature\")\n",
    "\n",
    "# save as PNG\n",
    "plt.savefig(\"Lat_vs_MaxTemp.png\")\n",
    "\n",
    "# the code above is plotting latitude values from our dataframe against max temp values from our dataframe on a scatterplot, aiding in identifying any relationship(s) between the variables."
   ]
  },
  {
   "cell_type": "markdown",
   "metadata": {},
   "source": [
    "## Latitude vs. Humidity Plot"
   ]
  },
  {
   "cell_type": "code",
   "execution_count": 121,
   "metadata": {},
   "outputs": [
    {
     "data": {
      "image/png": "[encoded data removed]",
      "text/plain": [
       "<Figure size 432x288 with 1 Axes>"
      ]
     },
     "metadata": {
      "needs_background": "light"
     },
     "output_type": "display_data"
    }
   ],
   "source": [
    "weather_df.plot(kind = \"scatter\", x = \"Lat\", y = \"Humidity\", c = \"Blue\")\n",
    "\n",
    "# formatting, titles, etc.\n",
    "plt.grid()\n",
    "plt.xlabel(\"Latitude\")\n",
    "plt.ylabel(\"Humidity (%)\")\n",
    "plt.title(\"City Latitude vs. Humidity\")\n",
    "\n",
    "# save as PNG\n",
    "plt.savefig(\"Lat_vs_Humidity.png\")\n",
    "\n",
    "# the code above is plotting latitude values from our dataframe against humidity values from our dataframe on a scatterplot, aiding in identifying any relationship(s) between the variables."
   ]
  },
  {
   "cell_type": "markdown",
   "metadata": {},
   "source": [
    "## Latitude vs. Cloudiness Plot"
   ]
  },
  {
   "cell_type": "code",
   "execution_count": 122,
   "metadata": {},
   "outputs": [
    {
     "data": {
      "image/png": "[encoded data removed]",
      "text/plain": [
       "<Figure size 432x288 with 1 Axes>"
      ]
     },
     "metadata": {
      "needs_background": "light"
     },
     "output_type": "display_data"
    }
   ],
   "source": [
    "weather_df.plot(kind = \"scatter\", x = \"Lat\", y = \"Cloudiness\", c = \"Blue\")\n",
    "\n",
    "# formatting, titles, etc.\n",
    "plt.grid()\n",
    "plt.xlabel(\"Latitude\")\n",
    "plt.ylabel(\"Cloudiness (%)\")\n",
    "plt.title(\"City Latitude vs. Cloudiness\")\n",
    "\n",
    "# save as PNG\n",
    "plt.savefig(\"Lat_vs_Cloud.png\")\n",
    "\n",
    "# the code above is plotting latitude values from our dataframe against cloudiness values from our dataframe on a scatterplot, aiding in identifying any relationship(s) between the variables."
   ]
  },
  {
   "cell_type": "markdown",
   "metadata": {},
   "source": [
    "## Latitude vs. Wind Speed Plot"
   ]
  },
  {
   "cell_type": "code",
   "execution_count": 123,
   "metadata": {},
   "outputs": [
    {
     "data": {
      "image/png": "[encoded data removed]",
      "text/plain": [
       "<Figure size 432x288 with 1 Axes>"
      ]
     },
     "metadata": {
      "needs_background": "light"
     },
     "output_type": "display_data"
    }
   ],
   "source": [
    "weather_df.plot(kind = \"scatter\", x = \"Lat\", y = \"Wind Speed\", c = \"Blue\")\n",
    "\n",
    "# formatting, titles, etc.\n",
    "plt.grid()\n",
    "plt.xlabel(\"Latitude\")\n",
    "plt.ylabel(\"Wind Speed (mph)\")\n",
    "plt.title(\"City Latitude vs. Wind Speed\")\n",
    "\n",
    "# save as PNG\n",
    "plt.savefig(\"Lat_vs_Wind.png\")\n",
    "\n",
    "# the code above is plotting latitude values from our dataframe against wind speed values from our dataframe on a scatterplot, aiding in identifying any relationship(s) between the variables."
   ]
  },
  {
   "cell_type": "markdown",
   "metadata": {},
   "source": [
    "## Linear Regression"
   ]
  },
  {
   "cell_type": "code",
   "execution_count": null,
   "metadata": {},
   "outputs": [],
   "source": []
  },
  {
   "cell_type": "markdown",
   "metadata": {},
   "source": [
    "####  Northern Hemisphere - Max Temp vs. Latitude Linear Regression"
   ]
  },
  {
   "cell_type": "code",
   "execution_count": 136,
   "metadata": {},
   "outputs": [
    {
     "name": "stdout",
     "output_type": "stream",
     "text": [
      "The r-squared value is: 0.5679360503344757\n"
     ]
    },
    {
     "data": {
      "image/png": "[encoded data removed]",
      "text/plain": [
       "<Figure size 432x288 with 1 Axes>"
      ]
     },
     "metadata": {
      "needs_background": "light"
     },
     "output_type": "display_data"
    }
   ],
   "source": [
    "#NOTE BELOW I WAS UNABLE TO SEPERATE BY HEMISPHERE WITHOUT GETTING ERRORS. Tried to find a working solution, but nothing seemed to work.\n",
    "\n",
    "x_values = weather_df[\"Lat\"]\n",
    "\n",
    "# if int(x_values) > 0\n",
    "y_values = weather_df[\"Max Temp\"]\n",
    "\n",
    "(slope, intercept, rvalue, pvalue, stderr) = linregress(x_values, y_values)\n",
    "regress_values = x_values * slope + intercept\n",
    "line_eq = \"y = \" + str(round(slope,2)) + \"x + \" + str(round(intercept, 2))\n",
    "plt.scatter(x_values, y_values)\n",
    "plt.plot(x_values, regress_values, \"r-\")\n",
    "plt.annotate(line_eq,(6,10),fontsize=12,color=\"red\")\n",
    "plt.xlabel(\"Latitude\")\n",
    "plt.ylabel(\"Max Temp\")\n",
    "print(f\"The r-squared value is: {rvalue**2}\")\n",
    "plt.show()\n",
    "\n",
    "# Although my plot and regression line account for the other hemisphere as well, I see in the N Hemisphere that temps tend to drop as latitude increases. R^2 is above .5, so this is a pretty clear trend."
   ]
  },
  {
   "cell_type": "markdown",
   "metadata": {},
   "source": [
    "####  Southern Hemisphere - Max Temp vs. Latitude Linear Regression"
   ]
  },
  {
   "cell_type": "code",
   "execution_count": 129,
   "metadata": {},
   "outputs": [
    {
     "name": "stdout",
     "output_type": "stream",
     "text": [
      "The r-squared value is: 0.5679360503344757\n"
     ]
    },
    {
     "data": {
      "image/png": "[encoded data removed]",
      "text/plain": [
       "<Figure size 432x288 with 1 Axes>"
      ]
     },
     "metadata": {
      "needs_background": "light"
     },
     "output_type": "display_data"
    }
   ],
   "source": [
    "#NOTE BELOW I WAS UNABLE TO SEPERATE BY HEMISPHERE WITHOUT GETTING ERRORS. Tried to find a working solution, but nothing seemed to work.\n",
    "\n",
    "x_values = weather_df[\"Lat\"]\n",
    "\n",
    "#if int(x_values) < 0\n",
    "y_values = weather_df[\"Max Temp\"]\n",
    "\n",
    "(slope, intercept, rvalue, pvalue, stderr) = linregress(x_values, y_values)\n",
    "regress_values = x_values * slope + intercept\n",
    "line_eq = \"y = \" + str(round(slope,2)) + \"x + \" + str(round(intercept, 2))\n",
    "plt.scatter(x_values, y_values)\n",
    "plt.plot(x_values, regress_values, \"r-\")\n",
    "plt.annotate(line_eq,(6,10),fontsize=12,color=\"red\")\n",
    "plt.xlabel(\"Latitude\")\n",
    "plt.ylabel(\"Max Temp\")\n",
    "print(f\"The r-squared value is: {rvalue**2}\")\n",
    "plt.show()\n",
    "\n",
    "# Although my plot and regression line account for the other hemisphere as well, I see in the S Hemisphere that temps tend to drop slightly as latitude decreases. It is not as noticeable as in the N Hemisphere though."
   ]
  },
  {
   "cell_type": "markdown",
   "metadata": {},
   "source": [
    "####  Northern Hemisphere - Humidity (%) vs. Latitude Linear Regression"
   ]
  },
  {
   "cell_type": "code",
   "execution_count": 130,
   "metadata": {},
   "outputs": [
    {
     "name": "stdout",
     "output_type": "stream",
     "text": [
      "The r-squared value is: 0.045468683627642156\n"
     ]
    },
    {
     "data": {
      "image/png": "[encoded data removed]",
      "text/plain": [
       "<Figure size 432x288 with 1 Axes>"
      ]
     },
     "metadata": {
      "needs_background": "light"
     },
     "output_type": "display_data"
    }
   ],
   "source": [
    "#NOTE BELOW I WAS UNABLE TO SEPERATE BY HEMISPHERE WITHOUT GETTING ERRORS. Tried to find a working solution, but nothing seemed to work.\n",
    "\n",
    "x_values = weather_df[\"Lat\"]\n",
    "\n",
    "#if int(x_values) > 0\n",
    "y_values = weather_df[\"Humidity\"]\n",
    "\n",
    "(slope, intercept, rvalue, pvalue, stderr) = linregress(x_values, y_values)\n",
    "regress_values = x_values * slope + intercept\n",
    "line_eq = \"y = \" + str(round(slope,2)) + \"x + \" + str(round(intercept, 2))\n",
    "plt.scatter(x_values, y_values)\n",
    "plt.plot(x_values, regress_values, \"r-\")\n",
    "plt.annotate(line_eq,(6,10),fontsize=12,color=\"red\")\n",
    "plt.xlabel(\"Latitude\")\n",
    "plt.ylabel(\"Humidity\")\n",
    "print(f\"The r-squared value is: {rvalue**2}\")\n",
    "plt.show()\n",
    "\n",
    "# I do not see any obvious relationships between latitude and humidity based on the below."
   ]
  },
  {
   "cell_type": "markdown",
   "metadata": {},
   "source": [
    "####  Southern Hemisphere - Humidity (%) vs. Latitude Linear Regression"
   ]
  },
  {
   "cell_type": "code",
   "execution_count": 131,
   "metadata": {},
   "outputs": [
    {
     "name": "stdout",
     "output_type": "stream",
     "text": [
      "The r-squared value is: 0.045468683627642156\n"
     ]
    },
    {
     "data": {
      "image/png": "[encoded data removed]",
      "text/plain": [
       "<Figure size 432x288 with 1 Axes>"
      ]
     },
     "metadata": {
      "needs_background": "light"
     },
     "output_type": "display_data"
    }
   ],
   "source": [
    "#NOTE BELOW I WAS UNABLE TO SEPERATE BY HEMISPHERE WITHOUT GETTING ERRORS. Tried to find a working solution, but nothing seemed to work.\n",
    "\n",
    "x_values = weather_df[\"Lat\"]\n",
    "\n",
    "#if int(x_values) < 0\n",
    "y_values = weather_df[\"Humidity\"]\n",
    "\n",
    "(slope, intercept, rvalue, pvalue, stderr) = linregress(x_values, y_values)\n",
    "regress_values = x_values * slope + intercept\n",
    "line_eq = \"y = \" + str(round(slope,2)) + \"x + \" + str(round(intercept, 2))\n",
    "plt.scatter(x_values, y_values)\n",
    "plt.plot(x_values, regress_values, \"r-\")\n",
    "plt.annotate(line_eq,(6,10),fontsize=12,color=\"red\")\n",
    "plt.xlabel(\"Latitude\")\n",
    "plt.ylabel(\"Humidity\")\n",
    "print(f\"The r-squared value is: {rvalue**2}\")\n",
    "plt.show()\n",
    "\n",
    "# I do not see any obvious relationships between latitude and humidity based on the below."
   ]
  },
  {
   "cell_type": "markdown",
   "metadata": {},
   "source": [
    "####  Northern Hemisphere - Cloudiness (%) vs. Latitude Linear Regression"
   ]
  },
  {
   "cell_type": "code",
   "execution_count": 132,
   "metadata": {},
   "outputs": [
    {
     "name": "stdout",
     "output_type": "stream",
     "text": [
      "The r-squared value is: 0.024162847915958283\n"
     ]
    },
    {
     "data": {
      "image/png": "[encoded data removed]",
      "text/plain": [
       "<Figure size 432x288 with 1 Axes>"
      ]
     },
     "metadata": {
      "needs_background": "light"
     },
     "output_type": "display_data"
    }
   ],
   "source": [
    "#NOTE BELOW I WAS UNABLE TO SEPERATE BY HEMISPHERE WITHOUT GETTING ERRORS. Tried to find a working solution, but nothing seemed to work.\n",
    "\n",
    "x_values = weather_df[\"Lat\"]\n",
    "\n",
    "#if int(x_values) > 0\n",
    "y_values = weather_df[\"Cloudiness\"]\n",
    "\n",
    "(slope, intercept, rvalue, pvalue, stderr) = linregress(x_values, y_values)\n",
    "regress_values = x_values * slope + intercept\n",
    "line_eq = \"y = \" + str(round(slope,2)) + \"x + \" + str(round(intercept, 2))\n",
    "plt.scatter(x_values, y_values)\n",
    "plt.plot(x_values, regress_values, \"r-\")\n",
    "plt.annotate(line_eq,(6,10),fontsize=12,color=\"red\")\n",
    "plt.xlabel(\"Latitude\")\n",
    "plt.ylabel(\"Cloudiness\")\n",
    "print(f\"The r-squared value is: {rvalue**2}\")\n",
    "plt.show()\n",
    "\n",
    "# I do not see any obvious relationships between latitude and cloudiness based on the below."
   ]
  },
  {
   "cell_type": "markdown",
   "metadata": {},
   "source": [
    "####  Southern Hemisphere - Cloudiness (%) vs. Latitude Linear Regression"
   ]
  },
  {
   "cell_type": "code",
   "execution_count": 133,
   "metadata": {},
   "outputs": [
    {
     "name": "stdout",
     "output_type": "stream",
     "text": [
      "The r-squared value is: 0.024162847915958283\n"
     ]
    },
    {
     "data": {
      "image/png": "[encoded data removed]",
      "text/plain": [
       "<Figure size 432x288 with 1 Axes>"
      ]
     },
     "metadata": {
      "needs_background": "light"
     },
     "output_type": "display_data"
    }
   ],
   "source": [
    "#NOTE BELOW I WAS UNABLE TO SEPERATE BY HEMISPHERE WITHOUT GETTING ERRORS. Tried to find a working solution, but nothing seemed to work.\n",
    "\n",
    "x_values = weather_df[\"Lat\"]\n",
    "\n",
    "#if int(x_values) < 0\n",
    "y_values = weather_df[\"Cloudiness\"]\n",
    "\n",
    "(slope, intercept, rvalue, pvalue, stderr) = linregress(x_values, y_values)\n",
    "regress_values = x_values * slope + intercept\n",
    "line_eq = \"y = \" + str(round(slope,2)) + \"x + \" + str(round(intercept, 2))\n",
    "plt.scatter(x_values, y_values)\n",
    "plt.plot(x_values, regress_values, \"r-\")\n",
    "plt.annotate(line_eq,(6,10),fontsize=12,color=\"red\")\n",
    "plt.xlabel(\"Latitude\")\n",
    "plt.ylabel(\"Cloudiness\")\n",
    "print(f\"The r-squared value is: {rvalue**2}\")\n",
    "plt.show()\n",
    "\n",
    "# I do not see any obvious relationships between latitude and cloudiness based on the below."
   ]
  },
  {
   "cell_type": "markdown",
   "metadata": {},
   "source": [
    "####  Northern Hemisphere - Wind Speed (mph) vs. Latitude Linear Regression"
   ]
  },
  {
   "cell_type": "code",
   "execution_count": 134,
   "metadata": {},
   "outputs": [
    {
     "name": "stdout",
     "output_type": "stream",
     "text": [
      "The r-squared value is: 0.00037002747601911777\n"
     ]
    },
    {
     "data": {
      "image/png": "[encoded data removed]",
      "text/plain": [
       "<Figure size 432x288 with 1 Axes>"
      ]
     },
     "metadata": {
      "needs_background": "light"
     },
     "output_type": "display_data"
    }
   ],
   "source": [
    "#NOTE BELOW I WAS UNABLE TO SEPERATE BY HEMISPHERE WITHOUT GETTING ERRORS. Tried to find a working solution, but nothing seemed to work.\n",
    "\n",
    "x_values = weather_df[\"Lat\"]\n",
    "\n",
    "#if int(x_values) > 0\n",
    "y_values = weather_df[\"Wind Speed\"]\n",
    "\n",
    "(slope, intercept, rvalue, pvalue, stderr) = linregress(x_values, y_values)\n",
    "regress_values = x_values * slope + intercept\n",
    "line_eq = \"y = \" + str(round(slope,2)) + \"x + \" + str(round(intercept, 2))\n",
    "plt.scatter(x_values, y_values)\n",
    "plt.plot(x_values, regress_values, \"r-\")\n",
    "plt.annotate(line_eq,(6,10),fontsize=12,color=\"red\")\n",
    "plt.xlabel(\"Latitude\")\n",
    "plt.ylabel(\"Wind Speed\")\n",
    "print(f\"The r-squared value is: {rvalue**2}\")\n",
    "plt.show()\n",
    "\n",
    "# I do not see any obvious relationships between latitude and wind speed based on the below. However, outliers (high winds) appear to be more frequent at extreme latitudes."
   ]
  },
  {
   "cell_type": "markdown",
   "metadata": {},
   "source": [
    "####  Southern Hemisphere - Wind Speed (mph) vs. Latitude Linear Regression"
   ]
  },
  {
   "cell_type": "code",
   "execution_count": 135,
   "metadata": {},
   "outputs": [
    {
     "name": "stdout",
     "output_type": "stream",
     "text": [
      "The r-squared value is: 0.00037002747601911777\n"
     ]
    },
    {
     "data": {
      "image/png": "[encoded data removed]",
      "text/plain": [
       "<Figure size 432x288 with 1 Axes>"
      ]
     },
     "metadata": {
      "needs_background": "light"
     },
     "output_type": "display_data"
    }
   ],
   "source": [
    "#NOTE BELOW I WAS UNABLE TO SEPERATE BY HEMISPHERE WITHOUT GETTING ERRORS. Tried to find a working solution, but nothing seemed to work.\n",
    "\n",
    "x_values = weather_df[\"Lat\"]\n",
    "\n",
    "#if int(x_values) < 0\n",
    "y_values = weather_df[\"Wind Speed\"]\n",
    "\n",
    "(slope, intercept, rvalue, pvalue, stderr) = linregress(x_values, y_values)\n",
    "regress_values = x_values * slope + intercept\n",
    "line_eq = \"y = \" + str(round(slope,2)) + \"x + \" + str(round(intercept, 2))\n",
    "plt.scatter(x_values, y_values)\n",
    "plt.plot(x_values, regress_values, \"r-\")\n",
    "plt.annotate(line_eq,(6,10),fontsize=12,color=\"red\")\n",
    "plt.xlabel(\"Latitude\")\n",
    "plt.ylabel(\"Wind Speed\")\n",
    "print(f\"The r-squared value is: {rvalue**2}\")\n",
    "plt.show()\n",
    "\n",
    "# I do not see any obvious relationships between latitude and wind speed based on the below. However, outliers (high winds) appear to be more frequent at extreme latitudes."
   ]
  },
  {
   "cell_type": "code",
   "execution_count": null,
   "metadata": {},
   "outputs": [],
   "source": []
  }
 ],
 "metadata": {
  "anaconda-cloud": {},
  "kernel_info": {
   "name": "python3"
  },
  "kernelspec": {
   "display_name": "Python Data",
   "language": "python",
   "name": "pythondata"
  },
  "language_info": {
   "codemirror_mode": {
    "name": "ipython",
    "version": 3
   },
   "file_extension": ".py",
   "mimetype": "text/x-python",
   "name": "python",
   "nbconvert_exporter": "python",
   "pygments_lexer": "ipython3",
   "version": "3.8.5"
  },
  "latex_envs": {
   "LaTeX_envs_menu_present": true,
   "autoclose": false,
   "autocomplete": true,
   "bibliofile": "biblio.bib",
   "cite_by": "apalike",
   "current_citInitial": 1,
   "eqLabelWithNumbers": true,
   "eqNumInitial": 1,
   "hotkeys": {
    "equation": "Ctrl-E",
    "itemize": "Ctrl-I"
   },
   "labels_anchors": false,
   "latex_user_defs": false,
   "report_style_numbering": false,
   "user_envs_cfg": false
  },
  "nteract": {
   "version": "0.12.3"
  }
 },
 "nbformat": 4,
 "nbformat_minor": 2
}
